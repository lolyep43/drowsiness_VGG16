{
 "cells": [
  {
   "cell_type": "code",
   "execution_count": null,
   "id": "a8e344f9",
   "metadata": {},
   "outputs": [],
   "source": [
    "import numpy as np\n",
    "import pandas as pd\n",
    "import matplotlib.pyplot as plt\n",
    "import os\n",
    "import cv2\n",
    "import time"
   ]
  },
  {
   "cell_type": "code",
   "execution_count": 2,
   "id": "8a915325",
   "metadata": {},
   "outputs": [],
   "source": [
    "def face_for_yawn(direc=\"./datasets\"):\n",
    "    IMG_SIZE = 48\n",
    "    categories = [\"no_yawn\", \"yawn\"]\n",
    "    yaw_no = []\n",
    "    for category in categories:\n",
    "        path_link = os.path.join(direc, category)\n",
    "        class_num = categories.index(category)\n",
    "        print(path_link)\n",
    "        for image in os.listdir(path_link):\n",
    "            image_array = cv2.imread(os.path.join(path_link, image), cv2.COLOR_BGR2GRAY)\n",
    "            face_cascade = cv2.CascadeClassifier(os.path.dirname(cv2.__file__) + \"/data/haarcascade_frontalface_alt.xml\")\n",
    "            faces = face_cascade.detectMultiScale(image_array, 1.3, 5)\n",
    "            for (x, y, w, h) in faces:\n",
    "                roi_color = image_array[y:y+h, x:x+w]\n",
    "                resized_array = cv2.resize(roi_color, (IMG_SIZE,IMG_SIZE))\n",
    "                yaw_no.append([resized_array, class_num])\n",
    "    return yaw_no"
   ]
  },
  {
   "cell_type": "code",
   "execution_count": 3,
   "id": "22e4ebbb",
   "metadata": {},
   "outputs": [],
   "source": [
    "def get_data(direc=\"./datasets\"):\n",
    "    labels = ['Closed', 'Open']\n",
    "    IMG_SIZE = 48\n",
    "    data = []\n",
    "    for label in labels:\n",
    "        path = os.path.join(direc, label)\n",
    "        class_num = labels.index(label)\n",
    "        class_num +=2\n",
    "        print(path)\n",
    "        for img in os.listdir(path):\n",
    "            img_array = cv2.imread(os.path.join(path, img), cv2.COLOR_BGR2GRAY)\n",
    "            resized_array = cv2.resize(img_array, (IMG_SIZE, IMG_SIZE))\n",
    "            data.append([resized_array, class_num])\n",
    "    return data"
   ]
  },
  {
   "cell_type": "code",
   "execution_count": 4,
   "id": "77298ebe",
   "metadata": {},
   "outputs": [],
   "source": [
    "def append_data():\n",
    "    yawn_or_no = face_for_yawn()\n",
    "    data = get_data()\n",
    "    yawn_or_no.extend(data)\n",
    "    return np.array(yawn_or_no, dtype=object)"
   ]
  },
  {
   "cell_type": "code",
   "execution_count": 5,
   "id": "db5c4b19",
   "metadata": {},
   "outputs": [
    {
     "name": "stdout",
     "output_type": "stream",
     "text": [
      "./datasets\\no_yawn\n",
      "./datasets\\yawn\n",
      "./datasets\\Closed\n",
      "./datasets\\Open\n"
     ]
    }
   ],
   "source": [
    "new_data = append_data()"
   ]
  },
  {
   "cell_type": "code",
   "execution_count": 6,
   "id": "272eb03b",
   "metadata": {},
   "outputs": [],
   "source": [
    "x = []\n",
    "y = []\n",
    "for feature, label in new_data:\n",
    "    x.append(feature)\n",
    "    y.append(label)"
   ]
  },
  {
   "cell_type": "code",
   "execution_count": 7,
   "id": "9767434c",
   "metadata": {},
   "outputs": [
    {
     "name": "stderr",
     "output_type": "stream",
     "text": [
      "C:\\Users\\Lenovo\\anaconda3\\lib\\site-packages\\scipy\\__init__.py:146: UserWarning: A NumPy version >=1.16.5 and <1.23.0 is required for this version of SciPy (detected version 1.25.0\n",
      "  warnings.warn(f\"A NumPy version >={np_minversion} and <{np_maxversion}\"\n"
     ]
    }
   ],
   "source": [
    "from sklearn.preprocessing import LabelBinarizer\n",
    "label_bin = LabelBinarizer()\n",
    "y = label_bin.fit_transform(y)\n",
    "y = np.array(y)"
   ]
  },
  {
   "cell_type": "code",
   "execution_count": 8,
   "id": "be33705f",
   "metadata": {},
   "outputs": [],
   "source": [
    "x, y = np.array(x), np.array(y)"
   ]
  },
  {
   "cell_type": "code",
   "execution_count": 9,
   "id": "21e70a0f",
   "metadata": {},
   "outputs": [],
   "source": [
    "from sklearn.model_selection import train_test_split\n",
    "\n",
    "x_train, x_test, y_train, y_test = train_test_split(x, y, random_state=42, test_size=0.2)"
   ]
  },
  {
   "cell_type": "code",
   "execution_count": 10,
   "id": "caf8ff1e",
   "metadata": {},
   "outputs": [],
   "source": [
    "from keras.preprocessing.image import ImageDataGenerator\n",
    "\n",
    "train_generator = ImageDataGenerator(rescale=1/255, horizontal_flip=True, rotation_range=30)\n",
    "test_generator = ImageDataGenerator(rescale=1/255)\n",
    "\n",
    "train_generator = train_generator.flow(np.array(x_train), y_train, shuffle=True)\n",
    "test_generator = test_generator.flow(np.array(x_test), y_test, shuffle=True)"
   ]
  },
  {
   "cell_type": "code",
   "execution_count": 11,
   "id": "72bfddfb",
   "metadata": {},
   "outputs": [
    {
     "name": "stdout",
     "output_type": "stream",
     "text": [
      "Model: \"sequential\"\n",
      "_________________________________________________________________\n",
      " Layer (type)                Output Shape              Param #   \n",
      "=================================================================\n",
      " conv1 (Conv2D)              (None, 48, 48, 32)        896       \n",
      "                                                                 \n",
      " conv2 (Conv2D)              (None, 48, 48, 32)        9248      \n",
      "                                                                 \n",
      " max_pooling2d (MaxPooling2D  (None, 24, 24, 32)       0         \n",
      " )                                                               \n",
      "                                                                 \n",
      " conv3 (Conv2D)              (None, 24, 24, 64)        18496     \n",
      "                                                                 \n",
      " covn4 (Conv2D)              (None, 24, 24, 64)        36928     \n",
      "                                                                 \n",
      " max_pooling2d_1 (MaxPooling  (None, 12, 12, 64)       0         \n",
      " 2D)                                                             \n",
      "                                                                 \n",
      " conv5 (Conv2D)              (None, 12, 12, 128)       73856     \n",
      "                                                                 \n",
      " covn6 (Conv2D)              (None, 12, 12, 128)       147584    \n",
      "                                                                 \n",
      " max_pooling2d_2 (MaxPooling  (None, 6, 6, 128)        0         \n",
      " 2D)                                                             \n",
      "                                                                 \n",
      " conv8 (Conv2D)              (None, 6, 6, 256)         295168    \n",
      "                                                                 \n",
      " conv9 (Conv2D)              (None, 6, 6, 256)         590080    \n",
      "                                                                 \n",
      " max_pooling2d_3 (MaxPooling  (None, 3, 3, 256)        0         \n",
      " 2D)                                                             \n",
      "                                                                 \n",
      " flatten (Flatten)           (None, 2304)              0         \n",
      "                                                                 \n",
      " fc (Dense)                  (None, 128)               295040    \n",
      "                                                                 \n",
      " dropout (Dropout)           (None, 128)               0         \n",
      "                                                                 \n",
      " fc2 (Dense)                 (None, 128)               16512     \n",
      "                                                                 \n",
      " dropout_1 (Dropout)         (None, 128)               0         \n",
      "                                                                 \n",
      " fc3 (Dense)                 (None, 4)                 516       \n",
      "                                                                 \n",
      "=================================================================\n",
      "Total params: 1,484,324\n",
      "Trainable params: 1,484,324\n",
      "Non-trainable params: 0\n",
      "_________________________________________________________________\n"
     ]
    }
   ],
   "source": [
    "from tensorflow.keras.layers import *\n",
    "from tensorflow.keras.models import Model\n",
    "from tensorflow.keras.models import Sequential\n",
    "from tensorflow.keras.initializers import GlorotUniform\n",
    "from tensorflow.keras.optimizers import *\n",
    "\n",
    "model = Sequential()\n",
    "model.add(Input(shape=x_train.shape[1:]))\n",
    "\n",
    "model.add(Conv2D(32, (3, 3), padding='same', strides=(1, 1), name='conv1', activation='relu'))\n",
    "model.add(Conv2D(32, (3, 3), padding='same', strides=(1, 1), name='conv2', activation='relu'))\n",
    "model.add(MaxPool2D((2, 2), strides=(2, 2)))\n",
    "\n",
    "model.add(Conv2D(64, (3, 3), padding='same', strides=(1, 1), name='conv3', activation='relu'))\n",
    "model.add(Conv2D(64, (3, 3), padding='same', strides=(1, 1), name='covn4', activation='relu'))\n",
    "model.add(MaxPool2D((2, 2), strides=(2, 2)))\n",
    "\n",
    "model.add(Conv2D(128, (3, 3), padding='same', strides=(1, 1), name='conv5', activation='relu'))\n",
    "model.add(Conv2D(128, (3, 3), padding='same', strides=(1, 1), name='covn6', activation='relu'))\n",
    "# model.add(Conv2D(128, (3, 3), padding='same', strides=(1, 1), name='covn7', activation='relu'))\n",
    "model.add(MaxPool2D((2, 2), strides=(2, 2)))\n",
    "\n",
    "model.add(Conv2D(256, (3, 3), padding='same', strides=(1, 1), name='conv8', activation='relu'))\n",
    "model.add(Conv2D(256, (3, 3), padding='same', strides=(1, 1), name='conv9', activation='relu'))\n",
    "# # # model.add(Conv2D(256, (3, 3), padding='same', strides=(1, 1), name='conv10', activation='relu'))\n",
    "model.add(MaxPool2D((2, 2), strides=(2, 2)))\n",
    "\n",
    "model.add(Flatten())\n",
    "model.add(Dense(128, activation='relu', name='fc'))\n",
    "model.add(Dropout(0.2))\n",
    "model.add(Dense(128, activation='relu', name='fc2'))\n",
    "model.add(Dropout(0.1))\n",
    "model.add(Dense(4, activation='softmax', name='fc3'))\n",
    "\n",
    "opt = Adam(learning_rate=0.001)\n",
    "model.compile(loss=\"categorical_crossentropy\", metrics=[\"accuracy\"], optimizer=opt)\n",
    "\n",
    "model.summary()"
   ]
  },
  {
   "cell_type": "code",
   "execution_count": 12,
   "id": "c29faa73",
   "metadata": {},
   "outputs": [
    {
     "name": "stdout",
     "output_type": "stream",
     "text": [
      "Model: \"sequential_1\"\n",
      "_________________________________________________________________\n",
      " Layer (type)                Output Shape              Param #   \n",
      "=================================================================\n",
      " conv1 (Conv2D)              (None, 48, 48, 32)        896       \n",
      "                                                                 \n",
      " conv2 (Conv2D)              (None, 48, 48, 32)        9248      \n",
      "                                                                 \n",
      " max_pooling2d_4 (MaxPooling  (None, 24, 24, 32)       0         \n",
      " 2D)                                                             \n",
      "                                                                 \n",
      " conv3 (Conv2D)              (None, 24, 24, 64)        18496     \n",
      "                                                                 \n",
      " covn4 (Conv2D)              (None, 24, 24, 64)        36928     \n",
      "                                                                 \n",
      " max_pooling2d_5 (MaxPooling  (None, 12, 12, 64)       0         \n",
      " 2D)                                                             \n",
      "                                                                 \n",
      " conv5 (Conv2D)              (None, 12, 12, 128)       73856     \n",
      "                                                                 \n",
      " covn6 (Conv2D)              (None, 12, 12, 128)       147584    \n",
      "                                                                 \n",
      " max_pooling2d_6 (MaxPooling  (None, 6, 6, 128)        0         \n",
      " 2D)                                                             \n",
      "                                                                 \n",
      " conv8 (Conv2D)              (None, 6, 6, 256)         295168    \n",
      "                                                                 \n",
      " conv9 (Conv2D)              (None, 6, 6, 256)         590080    \n",
      "                                                                 \n",
      " max_pooling2d_7 (MaxPooling  (None, 3, 3, 256)        0         \n",
      " 2D)                                                             \n",
      "                                                                 \n",
      " flatten_1 (Flatten)         (None, 2304)              0         \n",
      "                                                                 \n",
      " fc (Dense)                  (None, 128)               295040    \n",
      "                                                                 \n",
      " dropout_2 (Dropout)         (None, 128)               0         \n",
      "                                                                 \n",
      " fc2 (Dense)                 (None, 128)               16512     \n",
      "                                                                 \n",
      " dropout_3 (Dropout)         (None, 128)               0         \n",
      "                                                                 \n",
      " fc3 (Dense)                 (None, 4)                 516       \n",
      "                                                                 \n",
      "=================================================================\n",
      "Total params: 1,484,324\n",
      "Trainable params: 1,484,324\n",
      "Non-trainable params: 0\n",
      "_________________________________________________________________\n"
     ]
    }
   ],
   "source": [
    "model_vgg50 = Sequential()\n",
    "model_vgg50.add(Input(shape=x_train.shape[1:]))\n",
    "\n",
    "model_vgg50.add(Conv2D(32, (3, 3), padding='same', strides=(1, 1), name='conv1', activation='relu'))\n",
    "model_vgg50.add(Conv2D(32, (3, 3), padding='same', strides=(1, 1), name='conv2', activation='relu'))\n",
    "model_vgg50.add(MaxPool2D((2, 2), strides=(2, 2)))\n",
    "\n",
    "model_vgg50.add(Conv2D(64, (3, 3), padding='same', strides=(1, 1), name='conv3', activation='relu'))\n",
    "model_vgg50.add(Conv2D(64, (3, 3), padding='same', strides=(1, 1), name='covn4', activation='relu'))\n",
    "model_vgg50.add(MaxPool2D((2, 2), strides=(2, 2)))\n",
    "\n",
    "model_vgg50.add(Conv2D(128, (3, 3), padding='same', strides=(1, 1), name='conv5', activation='relu'))\n",
    "model_vgg50.add(Conv2D(128, (3, 3), padding='same', strides=(1, 1), name='covn6', activation='relu'))\n",
    "# model.add(Conv2D(128, (3, 3), padding='same', strides=(1, 1), name='covn7', activation='relu'))\n",
    "model_vgg50.add(MaxPool2D((2, 2), strides=(2, 2)))\n",
    "\n",
    "model_vgg50.add(Conv2D(256, (3, 3), padding='same', strides=(1, 1), name='conv8', activation='relu'))\n",
    "model_vgg50.add(Conv2D(256, (3, 3), padding='same', strides=(1, 1), name='conv9', activation='relu'))\n",
    "# # # model.add(Conv2D(256, (3, 3), padding='same', strides=(1, 1), name='conv10', activation='relu'))\n",
    "model_vgg50.add(MaxPool2D((2, 2), strides=(2, 2)))\n",
    "\n",
    "model_vgg50.add(Flatten())\n",
    "model_vgg50.add(Dense(128, activation='relu', name='fc'))\n",
    "model_vgg50.add(Dropout(0.2))\n",
    "model_vgg50.add(Dense(128, activation='relu', name='fc2'))\n",
    "model_vgg50.add(Dropout(0.1))\n",
    "model_vgg50.add(Dense(4, activation='softmax', name='fc3'))\n",
    "\n",
    "opt_vgg50 = Adam(learning_rate=0.001)\n",
    "model_vgg50.compile(loss=\"categorical_crossentropy\", metrics=[\"accuracy\"], optimizer=opt_vgg50)\n",
    "\n",
    "model_vgg50.summary()"
   ]
  },
  {
   "cell_type": "code",
   "execution_count": 13,
   "id": "cd0b34c1",
   "metadata": {},
   "outputs": [
    {
     "name": "stdout",
     "output_type": "stream",
     "text": [
      "Model: \"sequential_2\"\n",
      "_________________________________________________________________\n",
      " Layer (type)                Output Shape              Param #   \n",
      "=================================================================\n",
      " conv1 (Conv2D)              (None, 48, 48, 32)        896       \n",
      "                                                                 \n",
      " conv2 (Conv2D)              (None, 48, 48, 32)        9248      \n",
      "                                                                 \n",
      " max_pooling2d_8 (MaxPooling  (None, 24, 24, 32)       0         \n",
      " 2D)                                                             \n",
      "                                                                 \n",
      " conv3 (Conv2D)              (None, 24, 24, 64)        18496     \n",
      "                                                                 \n",
      " covn4 (Conv2D)              (None, 24, 24, 64)        36928     \n",
      "                                                                 \n",
      " max_pooling2d_9 (MaxPooling  (None, 12, 12, 64)       0         \n",
      " 2D)                                                             \n",
      "                                                                 \n",
      " conv5 (Conv2D)              (None, 12, 12, 128)       73856     \n",
      "                                                                 \n",
      " covn6 (Conv2D)              (None, 12, 12, 128)       147584    \n",
      "                                                                 \n",
      " max_pooling2d_10 (MaxPoolin  (None, 6, 6, 128)        0         \n",
      " g2D)                                                            \n",
      "                                                                 \n",
      " conv8 (Conv2D)              (None, 6, 6, 256)         295168    \n",
      "                                                                 \n",
      " conv9 (Conv2D)              (None, 6, 6, 256)         590080    \n",
      "                                                                 \n",
      " max_pooling2d_11 (MaxPoolin  (None, 3, 3, 256)        0         \n",
      " g2D)                                                            \n",
      "                                                                 \n",
      " flatten_2 (Flatten)         (None, 2304)              0         \n",
      "                                                                 \n",
      " fc (Dense)                  (None, 128)               295040    \n",
      "                                                                 \n",
      " dropout_4 (Dropout)         (None, 128)               0         \n",
      "                                                                 \n",
      " fc2 (Dense)                 (None, 128)               16512     \n",
      "                                                                 \n",
      " dropout_5 (Dropout)         (None, 128)               0         \n",
      "                                                                 \n",
      " fc3 (Dense)                 (None, 4)                 516       \n",
      "                                                                 \n",
      "=================================================================\n",
      "Total params: 1,484,324\n",
      "Trainable params: 1,484,324\n",
      "Non-trainable params: 0\n",
      "_________________________________________________________________\n"
     ]
    }
   ],
   "source": [
    "model_vgg100 = Sequential()\n",
    "model_vgg100.add(Input(shape=x_train.shape[1:]))\n",
    "\n",
    "model_vgg100.add(Conv2D(32, (3, 3), padding='same', strides=(1, 1), name='conv1', activation='relu'))\n",
    "model_vgg100.add(Conv2D(32, (3, 3), padding='same', strides=(1, 1), name='conv2', activation='relu'))\n",
    "model_vgg100.add(MaxPool2D((2, 2), strides=(2, 2)))\n",
    "\n",
    "model_vgg100.add(Conv2D(64, (3, 3), padding='same', strides=(1, 1), name='conv3', activation='relu'))\n",
    "model_vgg100.add(Conv2D(64, (3, 3), padding='same', strides=(1, 1), name='covn4', activation='relu'))\n",
    "model_vgg100.add(MaxPool2D((2, 2), strides=(2, 2)))\n",
    "\n",
    "model_vgg100.add(Conv2D(128, (3, 3), padding='same', strides=(1, 1), name='conv5', activation='relu'))\n",
    "model_vgg100.add(Conv2D(128, (3, 3), padding='same', strides=(1, 1), name='covn6', activation='relu'))\n",
    "# model.add(Conv2D(128, (3, 3), padding='same', strides=(1, 1), name='covn7', activation='relu'))\n",
    "model_vgg100.add(MaxPool2D((2, 2), strides=(2, 2)))\n",
    "\n",
    "model_vgg100.add(Conv2D(256, (3, 3), padding='same', strides=(1, 1), name='conv8', activation='relu'))\n",
    "model_vgg100.add(Conv2D(256, (3, 3), padding='same', strides=(1, 1), name='conv9', activation='relu'))\n",
    "# # # model.add(Conv2D(256, (3, 3), padding='same', strides=(1, 1), name='conv10', activation='relu'))\n",
    "model_vgg100.add(MaxPool2D((2, 2), strides=(2, 2)))\n",
    "\n",
    "model_vgg100.add(Flatten())\n",
    "model_vgg100.add(Dense(128, activation='relu', name='fc'))\n",
    "model_vgg100.add(Dropout(0.2))\n",
    "model_vgg100.add(Dense(128, activation='relu', name='fc2'))\n",
    "model_vgg100.add(Dropout(0.1))\n",
    "model_vgg100.add(Dense(4, activation='softmax', name='fc3'))\n",
    "\n",
    "opt_vgg100 = Adam(learning_rate=0.001)\n",
    "model_vgg100.compile(loss=\"categorical_crossentropy\", metrics=[\"accuracy\"], optimizer=opt_vgg100)\n",
    "\n",
    "model_vgg100.summary()"
   ]
  },
  {
   "cell_type": "code",
   "execution_count": 14,
   "id": "34cd3421",
   "metadata": {},
   "outputs": [
    {
     "name": "stdout",
     "output_type": "stream",
     "text": [
      "Model: \"sequential_3\"\n",
      "_________________________________________________________________\n",
      " Layer (type)                Output Shape              Param #   \n",
      "=================================================================\n",
      " conv_le1 (Conv2D)           (None, 48, 48, 6)         456       \n",
      "                                                                 \n",
      " pool_le1 (AveragePooling2D)  (None, 24, 24, 6)        0         \n",
      "                                                                 \n",
      " conv_le2 (Conv2D)           (None, 20, 20, 16)        2416      \n",
      "                                                                 \n",
      " pool_le2 (AveragePooling2D)  (None, 10, 10, 16)       0         \n",
      "                                                                 \n",
      " conv_le3 (Conv2D)           (None, 6, 6, 120)         48120     \n",
      "                                                                 \n",
      " flatten_3 (Flatten)         (None, 4320)              0         \n",
      "                                                                 \n",
      " dense (Dense)               (None, 84)                362964    \n",
      "                                                                 \n",
      " dense_1 (Dense)             (None, 4)                 340       \n",
      "                                                                 \n",
      "=================================================================\n",
      "Total params: 414,296\n",
      "Trainable params: 414,296\n",
      "Non-trainable params: 0\n",
      "_________________________________________________________________\n"
     ]
    }
   ],
   "source": [
    "model_le = Sequential()\n",
    "\n",
    "model_le.add(Input(shape=x_train.shape[1:]))\n",
    "model_le.add(Conv2D(6, (5, 5), padding='same', strides=(1, 1), name='conv_le1', activation='tanh'))\n",
    "model_le.add(AveragePooling2D((2, 2), padding='valid', strides=(2, 2), name='pool_le1'))\n",
    "model_le.add(Conv2D(16, (5, 5), padding='valid', strides=(1, 1), name='conv_le2', activation='tanh'))\n",
    "model_le.add(AveragePooling2D((2, 2), padding='valid', strides=(2, 2), name='pool_le2'))\n",
    "model_le.add(Conv2D(120, (5, 5), padding='valid', strides=(1, 1), name='conv_le3', activation='tanh'))\n",
    "\n",
    "model_le.add(Flatten())\n",
    "\n",
    "model_le.add(Dense(84, activation = \"tanh\"))\n",
    "model_le.add(Dense(4, activation = \"softmax\"))\n",
    "\n",
    "opt_le = Adam(learning_rate=0.0001)\n",
    "\n",
    "model_le.compile(loss=\"categorical_crossentropy\", metrics=[\"accuracy\"], optimizer=opt_le)\n",
    "\n",
    "model_le.summary()"
   ]
  },
  {
   "cell_type": "code",
   "execution_count": 15,
   "id": "cddfe840",
   "metadata": {},
   "outputs": [
    {
     "name": "stdout",
     "output_type": "stream",
     "text": [
      "Model: \"sequential_4\"\n",
      "_________________________________________________________________\n",
      " Layer (type)                Output Shape              Param #   \n",
      "=================================================================\n",
      " conv_le1 (Conv2D)           (None, 48, 48, 6)         456       \n",
      "                                                                 \n",
      " pool_le1 (AveragePooling2D)  (None, 24, 24, 6)        0         \n",
      "                                                                 \n",
      " conv_le2 (Conv2D)           (None, 20, 20, 16)        2416      \n",
      "                                                                 \n",
      " pool_le2 (AveragePooling2D)  (None, 10, 10, 16)       0         \n",
      "                                                                 \n",
      " conv_le3 (Conv2D)           (None, 6, 6, 120)         48120     \n",
      "                                                                 \n",
      " flatten_4 (Flatten)         (None, 4320)              0         \n",
      "                                                                 \n",
      " dense_2 (Dense)             (None, 84)                362964    \n",
      "                                                                 \n",
      " dense_3 (Dense)             (None, 4)                 340       \n",
      "                                                                 \n",
      "=================================================================\n",
      "Total params: 414,296\n",
      "Trainable params: 414,296\n",
      "Non-trainable params: 0\n",
      "_________________________________________________________________\n"
     ]
    }
   ],
   "source": [
    "model_le_50 = Sequential()\n",
    "\n",
    "model_le_50.add(Input(shape=x_train.shape[1:]))\n",
    "model_le_50.add(Conv2D(6, (5, 5), padding='same', strides=(1, 1), name='conv_le1', activation='tanh'))\n",
    "model_le_50.add(AveragePooling2D((2, 2), padding='valid', strides=(2, 2), name='pool_le1'))\n",
    "model_le_50.add(Conv2D(16, (5, 5), padding='valid', strides=(1, 1), name='conv_le2', activation='tanh'))\n",
    "model_le_50.add(AveragePooling2D((2, 2), padding='valid', strides=(2, 2), name='pool_le2'))\n",
    "model_le_50.add(Conv2D(120, (5, 5), padding='valid', strides=(1, 1), name='conv_le3', activation='tanh'))\n",
    "\n",
    "model_le_50.add(Flatten())\n",
    "\n",
    "model_le_50.add(Dense(84, activation = \"tanh\"))\n",
    "model_le_50.add(Dense(4, activation = \"softmax\"))\n",
    "\n",
    "opt_le_50 = Adam(learning_rate=0.0001)\n",
    "\n",
    "model_le_50.compile(loss=\"categorical_crossentropy\", metrics=[\"accuracy\"], optimizer=opt_le_50)\n",
    "\n",
    "model_le_50.summary()"
   ]
  },
  {
   "cell_type": "code",
   "execution_count": 16,
   "id": "8cf15d68",
   "metadata": {},
   "outputs": [
    {
     "name": "stdout",
     "output_type": "stream",
     "text": [
      "Model: \"sequential_5\"\n",
      "_________________________________________________________________\n",
      " Layer (type)                Output Shape              Param #   \n",
      "=================================================================\n",
      " conv_le1 (Conv2D)           (None, 48, 48, 6)         456       \n",
      "                                                                 \n",
      " pool_le1 (AveragePooling2D)  (None, 24, 24, 6)        0         \n",
      "                                                                 \n",
      " conv_le2 (Conv2D)           (None, 20, 20, 16)        2416      \n",
      "                                                                 \n",
      " pool_le2 (AveragePooling2D)  (None, 10, 10, 16)       0         \n",
      "                                                                 \n",
      " conv_le3 (Conv2D)           (None, 6, 6, 120)         48120     \n",
      "                                                                 \n",
      " flatten_5 (Flatten)         (None, 4320)              0         \n",
      "                                                                 \n",
      " dense_4 (Dense)             (None, 84)                362964    \n",
      "                                                                 \n",
      " dense_5 (Dense)             (None, 4)                 340       \n",
      "                                                                 \n",
      "=================================================================\n",
      "Total params: 414,296\n",
      "Trainable params: 414,296\n",
      "Non-trainable params: 0\n",
      "_________________________________________________________________\n"
     ]
    }
   ],
   "source": [
    "model_le_100 = Sequential()\n",
    "\n",
    "model_le_100.add(Input(shape=x_train.shape[1:]))\n",
    "model_le_100.add(Conv2D(6, (5, 5), padding='same', strides=(1, 1), name='conv_le1', activation='tanh'))\n",
    "model_le_100.add(AveragePooling2D((2, 2), padding='valid', strides=(2, 2), name='pool_le1'))\n",
    "model_le_100.add(Conv2D(16, (5, 5), padding='valid', strides=(1, 1), name='conv_le2', activation='tanh'))\n",
    "model_le_100.add(AveragePooling2D((2, 2), padding='valid', strides=(2, 2), name='pool_le2'))\n",
    "model_le_100.add(Conv2D(120, (5, 5), padding='valid', strides=(1, 1), name='conv_le3', activation='tanh'))\n",
    "\n",
    "model_le_100.add(Flatten())\n",
    "\n",
    "model_le_100.add(Dense(84, activation = \"tanh\"))\n",
    "model_le_100.add(Dense(4, activation = \"softmax\"))\n",
    "\n",
    "opt_le_100 = Adam(learning_rate=0.0001)\n",
    "\n",
    "model_le_100.compile(loss=\"categorical_crossentropy\", metrics=[\"accuracy\"], optimizer=opt_le_100)\n",
    "\n",
    "model_le_100.summary()"
   ]
  },
  {
   "cell_type": "code",
   "execution_count": 17,
   "id": "375c8c35",
   "metadata": {},
   "outputs": [],
   "source": [
    "from keras.callbacks import ModelCheckpoint   \n",
    "\n",
    "# train the model\n",
    "checkpointer_vgg_35 = ModelCheckpoint(filepath='model.weightsvgg_non_gpu_35.best.hdf5', verbose=1, \n",
    "                               save_best_only=True)\n",
    "checkpointer_le_35 = ModelCheckpoint(filepath='model_le.weightsle_non_gpu_35.best.hdf5', verbose=1, \n",
    "                               save_best_only=True)\n",
    "\n",
    "checkpointer_vgg_50 = ModelCheckpoint(filepath='model.weightsvgg_non_gpu_50.best.hdf5', verbose=1, \n",
    "                               save_best_only=True)\n",
    "checkpointer_le_50 = ModelCheckpoint(filepath='model_le.weightsle_non_gpu_50.best.hdf5', verbose=1, \n",
    "                               save_best_only=True)\n",
    "\n",
    "checkpointer_vgg_100 = ModelCheckpoint(filepath='model.weightsvgg_non_gpu_100.best.hdf5', verbose=1, \n",
    "                               save_best_only=True)\n",
    "checkpointer_le_100 = ModelCheckpoint(filepath='model_le.weightsle_non_gpu_100.best.hdf5', verbose=1, \n",
    "                               save_best_only=True)"
   ]
  },
  {
   "cell_type": "code",
   "execution_count": 18,
   "id": "90aa6e5c",
   "metadata": {},
   "outputs": [
    {
     "name": "stdout",
     "output_type": "stream",
     "text": [
      "Epoch 1/35\n",
      "45/45 [==============================] - ETA: 0s - loss: 1.1978 - accuracy: 0.3944\n",
      "Epoch 1: val_loss improved from inf to 0.92970, saving model to model.weightsvgg_non_gpu_35.best.hdf5\n",
      "45/45 [==============================] - 9s 166ms/step - loss: 1.1978 - accuracy: 0.3944 - val_loss: 0.9297 - val_accuracy: 0.4258\n",
      "Epoch 2/35\n",
      "45/45 [==============================] - ETA: 0s - loss: 1.0266 - accuracy: 0.4204\n",
      "Epoch 2: val_loss did not improve from 0.92970\n",
      "45/45 [==============================] - 7s 160ms/step - loss: 1.0266 - accuracy: 0.4204 - val_loss: 0.9777 - val_accuracy: 0.4342\n",
      "Epoch 3/35\n",
      "45/45 [==============================] - ETA: 0s - loss: 0.6063 - accuracy: 0.7298\n",
      "Epoch 3: val_loss improved from 0.92970 to 0.27104, saving model to model.weightsvgg_non_gpu_35.best.hdf5\n",
      "45/45 [==============================] - 7s 164ms/step - loss: 0.6063 - accuracy: 0.7298 - val_loss: 0.2710 - val_accuracy: 0.8880\n",
      "Epoch 4/35\n",
      "45/45 [==============================] - ETA: 0s - loss: 0.3414 - accuracy: 0.8723\n",
      "Epoch 4: val_loss improved from 0.27104 to 0.23966, saving model to model.weightsvgg_non_gpu_35.best.hdf5\n",
      "45/45 [==============================] - 7s 162ms/step - loss: 0.3414 - accuracy: 0.8723 - val_loss: 0.2397 - val_accuracy: 0.9216\n",
      "Epoch 5/35\n",
      "45/45 [==============================] - ETA: 0s - loss: 0.2170 - accuracy: 0.9130\n",
      "Epoch 5: val_loss improved from 0.23966 to 0.11123, saving model to model.weightsvgg_non_gpu_35.best.hdf5\n",
      "45/45 [==============================] - 7s 164ms/step - loss: 0.2170 - accuracy: 0.9130 - val_loss: 0.1112 - val_accuracy: 0.9524\n",
      "Epoch 6/35\n",
      "45/45 [==============================] - ETA: 0s - loss: 0.1842 - accuracy: 0.9319\n",
      "Epoch 6: val_loss improved from 0.11123 to 0.07057, saving model to model.weightsvgg_non_gpu_35.best.hdf5\n",
      "45/45 [==============================] - 7s 164ms/step - loss: 0.1842 - accuracy: 0.9319 - val_loss: 0.0706 - val_accuracy: 0.9720\n",
      "Epoch 7/35\n",
      "45/45 [==============================] - ETA: 0s - loss: 0.1364 - accuracy: 0.9544\n",
      "Epoch 7: val_loss did not improve from 0.07057\n",
      "45/45 [==============================] - 7s 161ms/step - loss: 0.1364 - accuracy: 0.9544 - val_loss: 0.0717 - val_accuracy: 0.9748\n",
      "Epoch 8/35\n",
      "45/45 [==============================] - ETA: 0s - loss: 0.1050 - accuracy: 0.9656\n",
      "Epoch 8: val_loss improved from 0.07057 to 0.05536, saving model to model.weightsvgg_non_gpu_35.best.hdf5\n",
      "45/45 [==============================] - 7s 163ms/step - loss: 0.1050 - accuracy: 0.9656 - val_loss: 0.0554 - val_accuracy: 0.9832\n",
      "Epoch 9/35\n",
      "45/45 [==============================] - ETA: 0s - loss: 0.1011 - accuracy: 0.9663\n",
      "Epoch 9: val_loss improved from 0.05536 to 0.03349, saving model to model.weightsvgg_non_gpu_35.best.hdf5\n",
      "45/45 [==============================] - 7s 163ms/step - loss: 0.1011 - accuracy: 0.9663 - val_loss: 0.0335 - val_accuracy: 0.9860\n",
      "Epoch 10/35\n",
      "45/45 [==============================] - ETA: 0s - loss: 0.1058 - accuracy: 0.9614\n",
      "Epoch 10: val_loss did not improve from 0.03349\n",
      "45/45 [==============================] - 7s 163ms/step - loss: 0.1058 - accuracy: 0.9614 - val_loss: 0.0436 - val_accuracy: 0.9832\n",
      "Epoch 11/35\n",
      "45/45 [==============================] - ETA: 0s - loss: 0.0683 - accuracy: 0.9789\n",
      "Epoch 11: val_loss did not improve from 0.03349\n",
      "45/45 [==============================] - 7s 162ms/step - loss: 0.0683 - accuracy: 0.9789 - val_loss: 0.0411 - val_accuracy: 0.9860\n",
      "Epoch 12/35\n",
      "45/45 [==============================] - ETA: 0s - loss: 0.0789 - accuracy: 0.9775\n",
      "Epoch 12: val_loss did not improve from 0.03349\n",
      "45/45 [==============================] - 7s 164ms/step - loss: 0.0789 - accuracy: 0.9775 - val_loss: 0.0754 - val_accuracy: 0.9720\n",
      "Epoch 13/35\n",
      "45/45 [==============================] - ETA: 0s - loss: 0.0906 - accuracy: 0.9705\n",
      "Epoch 13: val_loss did not improve from 0.03349\n",
      "45/45 [==============================] - 7s 164ms/step - loss: 0.0906 - accuracy: 0.9705 - val_loss: 0.0613 - val_accuracy: 0.9776\n",
      "Epoch 14/35\n",
      "45/45 [==============================] - ETA: 0s - loss: 0.0923 - accuracy: 0.9733\n",
      "Epoch 14: val_loss did not improve from 0.03349\n",
      "45/45 [==============================] - 7s 164ms/step - loss: 0.0923 - accuracy: 0.9733 - val_loss: 0.0775 - val_accuracy: 0.9720\n",
      "Epoch 15/35\n",
      "45/45 [==============================] - ETA: 0s - loss: 0.0736 - accuracy: 0.9719\n",
      "Epoch 15: val_loss did not improve from 0.03349\n",
      "45/45 [==============================] - 7s 162ms/step - loss: 0.0736 - accuracy: 0.9719 - val_loss: 0.0778 - val_accuracy: 0.9748\n",
      "Epoch 16/35\n",
      "45/45 [==============================] - ETA: 0s - loss: 0.0740 - accuracy: 0.9768\n",
      "Epoch 16: val_loss did not improve from 0.03349\n",
      "45/45 [==============================] - 7s 164ms/step - loss: 0.0740 - accuracy: 0.9768 - val_loss: 0.0406 - val_accuracy: 0.9832\n",
      "Epoch 17/35\n",
      "45/45 [==============================] - ETA: 0s - loss: 0.0895 - accuracy: 0.9698\n",
      "Epoch 17: val_loss did not improve from 0.03349\n",
      "45/45 [==============================] - 7s 165ms/step - loss: 0.0895 - accuracy: 0.9698 - val_loss: 0.0522 - val_accuracy: 0.9832\n",
      "Epoch 18/35\n",
      "45/45 [==============================] - ETA: 0s - loss: 0.0465 - accuracy: 0.9846\n",
      "Epoch 18: val_loss did not improve from 0.03349\n",
      "45/45 [==============================] - 7s 162ms/step - loss: 0.0465 - accuracy: 0.9846 - val_loss: 0.0583 - val_accuracy: 0.9888\n",
      "Epoch 19/35\n",
      "45/45 [==============================] - ETA: 0s - loss: 0.0465 - accuracy: 0.9860\n",
      "Epoch 19: val_loss did not improve from 0.03349\n",
      "45/45 [==============================] - 7s 162ms/step - loss: 0.0465 - accuracy: 0.9860 - val_loss: 0.0948 - val_accuracy: 0.9748\n",
      "Epoch 20/35\n",
      "45/45 [==============================] - ETA: 0s - loss: 0.0689 - accuracy: 0.9761\n",
      "Epoch 20: val_loss did not improve from 0.03349\n",
      "45/45 [==============================] - 7s 163ms/step - loss: 0.0689 - accuracy: 0.9761 - val_loss: 0.0363 - val_accuracy: 0.9888\n",
      "Epoch 21/35\n",
      "45/45 [==============================] - ETA: 0s - loss: 0.0514 - accuracy: 0.9867\n",
      "Epoch 21: val_loss improved from 0.03349 to 0.03264, saving model to model.weightsvgg_non_gpu_35.best.hdf5\n",
      "45/45 [==============================] - 7s 165ms/step - loss: 0.0514 - accuracy: 0.9867 - val_loss: 0.0326 - val_accuracy: 0.9832\n",
      "Epoch 22/35\n",
      "45/45 [==============================] - ETA: 0s - loss: 0.0689 - accuracy: 0.9804\n",
      "Epoch 22: val_loss improved from 0.03264 to 0.01813, saving model to model.weightsvgg_non_gpu_35.best.hdf5\n",
      "45/45 [==============================] - 7s 165ms/step - loss: 0.0689 - accuracy: 0.9804 - val_loss: 0.0181 - val_accuracy: 0.9916\n",
      "Epoch 23/35\n",
      "45/45 [==============================] - ETA: 0s - loss: 0.0377 - accuracy: 0.9881\n",
      "Epoch 23: val_loss improved from 0.01813 to 0.01590, saving model to model.weightsvgg_non_gpu_35.best.hdf5\n",
      "45/45 [==============================] - 7s 163ms/step - loss: 0.0377 - accuracy: 0.9881 - val_loss: 0.0159 - val_accuracy: 0.9944\n",
      "Epoch 24/35\n",
      "45/45 [==============================] - ETA: 0s - loss: 0.0459 - accuracy: 0.9825\n",
      "Epoch 24: val_loss did not improve from 0.01590\n",
      "45/45 [==============================] - 7s 162ms/step - loss: 0.0459 - accuracy: 0.9825 - val_loss: 0.0193 - val_accuracy: 0.9860\n",
      "Epoch 25/35\n",
      "45/45 [==============================] - ETA: 0s - loss: 0.0500 - accuracy: 0.9874\n",
      "Epoch 25: val_loss did not improve from 0.01590\n",
      "45/45 [==============================] - 7s 163ms/step - loss: 0.0500 - accuracy: 0.9874 - val_loss: 0.0226 - val_accuracy: 0.9888\n",
      "Epoch 26/35\n",
      "45/45 [==============================] - ETA: 0s - loss: 0.0304 - accuracy: 0.9909\n",
      "Epoch 26: val_loss did not improve from 0.01590\n",
      "45/45 [==============================] - 7s 163ms/step - loss: 0.0304 - accuracy: 0.9909 - val_loss: 0.0187 - val_accuracy: 0.9916\n",
      "Epoch 27/35\n",
      "45/45 [==============================] - ETA: 0s - loss: 0.0468 - accuracy: 0.9832\n",
      "Epoch 27: val_loss did not improve from 0.01590\n",
      "45/45 [==============================] - 7s 164ms/step - loss: 0.0468 - accuracy: 0.9832 - val_loss: 0.0557 - val_accuracy: 0.9776\n",
      "Epoch 28/35\n",
      "45/45 [==============================] - ETA: 0s - loss: 0.0399 - accuracy: 0.9874\n",
      "Epoch 28: val_loss did not improve from 0.01590\n",
      "45/45 [==============================] - 8s 167ms/step - loss: 0.0399 - accuracy: 0.9874 - val_loss: 0.0380 - val_accuracy: 0.9860\n",
      "Epoch 29/35\n",
      "45/45 [==============================] - ETA: 0s - loss: 0.0341 - accuracy: 0.9902\n",
      "Epoch 29: val_loss did not improve from 0.01590\n",
      "45/45 [==============================] - 7s 164ms/step - loss: 0.0341 - accuracy: 0.9902 - val_loss: 0.0209 - val_accuracy: 0.9944\n",
      "Epoch 30/35\n",
      "45/45 [==============================] - ETA: 0s - loss: 0.0401 - accuracy: 0.9909\n",
      "Epoch 30: val_loss did not improve from 0.01590\n",
      "45/45 [==============================] - 7s 164ms/step - loss: 0.0401 - accuracy: 0.9909 - val_loss: 0.0437 - val_accuracy: 0.9832\n",
      "Epoch 31/35\n",
      "45/45 [==============================] - ETA: 0s - loss: 0.0311 - accuracy: 0.9867\n",
      "Epoch 31: val_loss did not improve from 0.01590\n",
      "45/45 [==============================] - 7s 163ms/step - loss: 0.0311 - accuracy: 0.9867 - val_loss: 0.0198 - val_accuracy: 0.9888\n",
      "Epoch 32/35\n",
      "45/45 [==============================] - ETA: 0s - loss: 0.0643 - accuracy: 0.9825\n",
      "Epoch 32: val_loss did not improve from 0.01590\n",
      "45/45 [==============================] - 7s 163ms/step - loss: 0.0643 - accuracy: 0.9825 - val_loss: 0.0291 - val_accuracy: 0.9888\n",
      "Epoch 33/35\n",
      "45/45 [==============================] - ETA: 0s - loss: 0.0307 - accuracy: 0.9888\n",
      "Epoch 33: val_loss improved from 0.01590 to 0.01197, saving model to model.weightsvgg_non_gpu_35.best.hdf5\n",
      "45/45 [==============================] - 8s 170ms/step - loss: 0.0307 - accuracy: 0.9888 - val_loss: 0.0120 - val_accuracy: 0.9972\n",
      "Epoch 34/35\n",
      "45/45 [==============================] - ETA: 0s - loss: 0.0274 - accuracy: 0.9916\n",
      "Epoch 34: val_loss did not improve from 0.01197\n",
      "45/45 [==============================] - 8s 174ms/step - loss: 0.0274 - accuracy: 0.9916 - val_loss: 0.0138 - val_accuracy: 0.9944\n",
      "Epoch 35/35\n",
      "45/45 [==============================] - ETA: 0s - loss: 0.0341 - accuracy: 0.9916\n",
      "Epoch 35: val_loss did not improve from 0.01197\n",
      "45/45 [==============================] - 7s 166ms/step - loss: 0.0341 - accuracy: 0.9916 - val_loss: 0.0278 - val_accuracy: 0.9916\n"
     ]
    }
   ],
   "source": [
    "history = model.fit(train_generator, batch_size=30,\n",
    "                 epochs=35, \n",
    "                 validation_data=(test_generator),\n",
    "                 callbacks=checkpointer_vgg_35,\n",
    "                 verbose = 1)"
   ]
  },
  {
   "cell_type": "code",
   "execution_count": null,
   "id": "b1da3d90",
   "metadata": {},
   "outputs": [
    {
     "name": "stdout",
     "output_type": "stream",
     "text": [
      "Epoch 1/50\n",
      "45/45 [==============================] - ETA: 0s - loss: 1.1783 - accuracy: 0.3937\n",
      "Epoch 1: val_loss improved from inf to 0.96758, saving model to model.weightsvgg_non_gpu_50.best.hdf5\n",
      "45/45 [==============================] - 9s 173ms/step - loss: 1.1783 - accuracy: 0.3937 - val_loss: 0.9676 - val_accuracy: 0.4062\n",
      "Epoch 2/50\n",
      "45/45 [==============================] - ETA: 0s - loss: 0.9270 - accuracy: 0.4765\n",
      "Epoch 2: val_loss improved from 0.96758 to 0.80577, saving model to model.weightsvgg_non_gpu_50.best.hdf5\n",
      "45/45 [==============================] - 8s 168ms/step - loss: 0.9270 - accuracy: 0.4765 - val_loss: 0.8058 - val_accuracy: 0.4902\n",
      "Epoch 3/50\n",
      "45/45 [==============================] - ETA: 0s - loss: 0.5955 - accuracy: 0.7425\n",
      "Epoch 3: val_loss improved from 0.80577 to 0.41952, saving model to model.weightsvgg_non_gpu_50.best.hdf5\n",
      "45/45 [==============================] - 8s 167ms/step - loss: 0.5955 - accuracy: 0.7425 - val_loss: 0.4195 - val_accuracy: 0.8655\n",
      "Epoch 4/50\n",
      "45/45 [==============================] - ETA: 0s - loss: 0.3071 - accuracy: 0.8702\n",
      "Epoch 4: val_loss improved from 0.41952 to 0.14256, saving model to model.weightsvgg_non_gpu_50.best.hdf5\n",
      "45/45 [==============================] - 7s 166ms/step - loss: 0.3071 - accuracy: 0.8702 - val_loss: 0.1426 - val_accuracy: 0.9384\n",
      "Epoch 5/50\n",
      "45/45 [==============================] - ETA: 0s - loss: 0.2363 - accuracy: 0.9060\n",
      "Epoch 5: val_loss improved from 0.14256 to 0.13425, saving model to model.weightsvgg_non_gpu_50.best.hdf5\n",
      "45/45 [==============================] - 8s 171ms/step - loss: 0.2363 - accuracy: 0.9060 - val_loss: 0.1343 - val_accuracy: 0.9440\n",
      "Epoch 6/50\n",
      "45/45 [==============================] - ETA: 0s - loss: 0.1788 - accuracy: 0.9347\n",
      "Epoch 6: val_loss improved from 0.13425 to 0.08042, saving model to model.weightsvgg_non_gpu_50.best.hdf5\n",
      "45/45 [==============================] - 8s 175ms/step - loss: 0.1788 - accuracy: 0.9347 - val_loss: 0.0804 - val_accuracy: 0.9664\n",
      "Epoch 7/50\n",
      "45/45 [==============================] - ETA: 0s - loss: 0.1576 - accuracy: 0.9453\n",
      "Epoch 7: val_loss did not improve from 0.08042\n",
      "45/45 [==============================] - 8s 176ms/step - loss: 0.1576 - accuracy: 0.9453 - val_loss: 0.0845 - val_accuracy: 0.9692\n",
      "Epoch 8/50\n",
      "36/45 [=======================>......] - ETA: 1s - loss: 0.1554 - accuracy: 0.9462"
     ]
    }
   ],
   "source": [
    "history_50 = model_vgg50.fit(train_generator, batch_size=30,\n",
    "                 epochs=50, \n",
    "                 validation_data=(test_generator),\n",
    "                 callbacks=checkpointer_vgg_50,\n",
    "                 verbose = 1)"
   ]
  },
  {
   "cell_type": "code",
   "execution_count": null,
   "id": "e3722e1c",
   "metadata": {},
   "outputs": [],
   "source": [
    "history_100 = model_vgg100.fit(train_generator, batch_size=30,\n",
    "                 epochs=100, \n",
    "                 validation_data=(test_generator),\n",
    "                 callbacks=checkpointer_vgg_100,\n",
    "                 verbose = 1)"
   ]
  },
  {
   "cell_type": "code",
   "execution_count": null,
   "id": "90be9ee5",
   "metadata": {},
   "outputs": [],
   "source": [
    "history_le_35 = model_le.fit(train_generator, batch_size=30,\n",
    "                 epochs=35, \n",
    "                 validation_data=(test_generator),\n",
    "                 callbacks=checkpointer_le_35,\n",
    "                 verbose = 1)"
   ]
  },
  {
   "cell_type": "code",
   "execution_count": null,
   "id": "0ee87351",
   "metadata": {},
   "outputs": [],
   "source": [
    "history_le_50 = model_le_50.fit(train_generator, batch_size=30,\n",
    "                 epochs=50, \n",
    "                 validation_data=(test_generator),\n",
    "                 callbacks=checkpointer_le_50,\n",
    "                 verbose = 1)"
   ]
  },
  {
   "cell_type": "code",
   "execution_count": null,
   "id": "eaa4efed",
   "metadata": {},
   "outputs": [],
   "source": [
    "history_le_100 = model_le_100.fit(train_generator, batch_size=30,\n",
    "                 epochs=100, \n",
    "                 validation_data=(test_generator),\n",
    "                 callbacks=checkpointer_le_100,\n",
    "                 verbose = 1)"
   ]
  },
  {
   "cell_type": "code",
   "execution_count": null,
   "id": "e2d8d431",
   "metadata": {},
   "outputs": [],
   "source": [
    "model.evaluate(x_test, y_test, verbose=1)"
   ]
  },
  {
   "cell_type": "code",
   "execution_count": null,
   "id": "83fd70f4",
   "metadata": {},
   "outputs": [],
   "source": [
    "model_vgg50.evaluate(x_test, y_test, verbose=1)"
   ]
  },
  {
   "cell_type": "code",
   "execution_count": null,
   "id": "be255b34",
   "metadata": {},
   "outputs": [],
   "source": [
    "model_vgg100.evaluate(x_test, y_test, verbose=1)"
   ]
  },
  {
   "cell_type": "code",
   "execution_count": null,
   "id": "cfb5e951",
   "metadata": {},
   "outputs": [],
   "source": [
    "model_le.evaluate(test_generator, verbose=1)"
   ]
  },
  {
   "cell_type": "code",
   "execution_count": null,
   "id": "45835aca",
   "metadata": {},
   "outputs": [],
   "source": [
    "model_le_50.evaluate(test_generator, verbose=1)"
   ]
  },
  {
   "cell_type": "code",
   "execution_count": null,
   "id": "c2f462e2",
   "metadata": {},
   "outputs": [],
   "source": [
    "model_le_100.evaluate(test_generator, verbose=1)"
   ]
  },
  {
   "cell_type": "code",
   "execution_count": null,
   "id": "515cff55",
   "metadata": {},
   "outputs": [],
   "source": [
    "fig = plt.figure(figsize = (12, 6))\n",
    "ax = fig.add_subplot(1, 2, 1)\n",
    "ax.plot(history.history[\"loss\"], 'r-x', label = \"train loss\")\n",
    "\n",
    "ax.plot(history.history[\"val_loss\"], 'g-x', label = \"validation loss\")\n",
    "ax.legend()\n",
    "ax.set_title(\"Cross entropy loss\")\n",
    "ax.grid(True)\n",
    "\n",
    "ax = fig.add_subplot(1, 2, 2)\n",
    "ax.plot(history.history[\"accuracy\"], \"r-x\", label = \"train accuracy\")\n",
    "ax.plot(history.history[\"val_accuracy\"], \"g-x\", label = \"validation accuracy\")\n",
    "ax.legend()\n",
    "ax.set_title(\"Accuracy\")\n",
    "ax.grid(True)"
   ]
  },
  {
   "cell_type": "code",
   "execution_count": null,
   "id": "54c81885",
   "metadata": {},
   "outputs": [],
   "source": [
    "fig = plt.figure(figsize = (20, 6))\n",
    "ax = fig.add_subplot(1, 2, 1)\n",
    "ax.plot(history_50.history[\"loss\"], 'r-x', label = \"train loss\")\n",
    "\n",
    "ax.plot(history_50.history[\"val_loss\"], 'g-x', label = \"validation loss\")\n",
    "ax.legend()\n",
    "ax.set_title(\"Cross entropy loss\")\n",
    "ax.grid(True)\n",
    "\n",
    "ax = fig.add_subplot(1, 2, 2)\n",
    "ax.plot(history_50.history[\"accuracy\"], \"r-x\", label = \"train accuracy\")\n",
    "ax.plot(history_50.history[\"val_accuracy\"], \"g-x\", label = \"validation accuracy\")\n",
    "ax.legend()\n",
    "ax.set_title(\"Accuracy\")\n",
    "ax.grid(True)"
   ]
  },
  {
   "cell_type": "code",
   "execution_count": null,
   "id": "09e46f07",
   "metadata": {},
   "outputs": [],
   "source": [
    "fig = plt.figure(figsize = (20, 6))\n",
    "ax = fig.add_subplot(1, 2, 1)\n",
    "ax.plot(history_100.history[\"loss\"], 'r-x', label = \"train loss\")\n",
    "\n",
    "ax.plot(history_100.history[\"val_loss\"], 'g-x', label = \"validation loss\")\n",
    "ax.legend()\n",
    "ax.set_title(\"Cross entropy loss\")\n",
    "ax.grid(True)\n",
    "\n",
    "ax = fig.add_subplot(1, 2, 2)\n",
    "ax.plot(history_100.history[\"accuracy\"], \"r-x\", label = \"train accuracy\")\n",
    "ax.plot(history_100.history[\"val_accuracy\"], \"g-x\", label = \"validation accuracy\")\n",
    "ax.legend()\n",
    "ax.set_title(\"Accuracy\")\n",
    "ax.grid(True)"
   ]
  },
  {
   "cell_type": "code",
   "execution_count": null,
   "id": "1ef870a4",
   "metadata": {},
   "outputs": [],
   "source": [
    "fig = plt.figure(figsize = (12, 6))\n",
    "ax = fig.add_subplot(1, 2, 1)\n",
    "ax.plot(history_le_35.history[\"loss\"], 'r-x', label = \"train loss\")\n",
    "\n",
    "ax.plot(history_le_35.history[\"val_loss\"], 'g-x', label = \"validation loss\")\n",
    "ax.legend()\n",
    "ax.set_title(\"Cross entropy loss\")\n",
    "ax.grid(True)\n",
    "\n",
    "ax = fig.add_subplot(1, 2, 2)\n",
    "ax.plot(history_le_35.history[\"accuracy\"], \"r-x\", label = \"train accuracy\")\n",
    "ax.plot(history_le_35.history[\"val_accuracy\"], \"g-x\", label = \"validation accuracy\")\n",
    "ax.legend()\n",
    "ax.set_title(\"Accuracy\")\n",
    "ax.grid(True)"
   ]
  },
  {
   "cell_type": "code",
   "execution_count": null,
   "id": "64e91096",
   "metadata": {},
   "outputs": [],
   "source": [
    "fig = plt.figure(figsize = (18, 6))\n",
    "ax = fig.add_subplot(1, 2, 1)\n",
    "ax.plot(history_le_50.history[\"loss\"], 'r-x', label = \"train loss\")\n",
    "\n",
    "ax.plot(history_le_50.history[\"val_loss\"], 'g-x', label = \"validation loss\")\n",
    "ax.legend()\n",
    "ax.set_title(\"Cross entropy loss\")\n",
    "ax.grid(True)\n",
    "\n",
    "ax = fig.add_subplot(1, 2, 2)\n",
    "ax.plot(history_le_50.history[\"accuracy\"], \"r-x\", label = \"train accuracy\")\n",
    "ax.plot(history_le_50.history[\"val_accuracy\"], \"g-x\", label = \"validation accuracy\")\n",
    "ax.legend()\n",
    "ax.set_title(\"Accuracy\")\n",
    "ax.grid(True)"
   ]
  },
  {
   "cell_type": "code",
   "execution_count": null,
   "id": "a1701a3a",
   "metadata": {},
   "outputs": [],
   "source": [
    "fig = plt.figure(figsize = (20, 6))\n",
    "ax = fig.add_subplot(1, 2, 1)\n",
    "ax.plot(history_le_100.history[\"loss\"], 'r-x', label = \"train loss\")\n",
    "\n",
    "ax.plot(history_le_100.history[\"val_loss\"], 'g-x', label = \"validation loss\")\n",
    "ax.legend()\n",
    "ax.set_title(\"Cross entropy loss\")\n",
    "ax.grid(True)\n",
    "\n",
    "ax = fig.add_subplot(1, 2, 2)\n",
    "ax.plot(history_le_100.history[\"accuracy\"], \"r-x\", label = \"train accuracy\")\n",
    "ax.plot(history_le_100.history[\"val_accuracy\"], \"g-x\", label = \"validation accuracy\")\n",
    "ax.legend()\n",
    "ax.set_title(\"Accuracy\")\n",
    "ax.grid(True)"
   ]
  },
  {
   "cell_type": "code",
   "execution_count": null,
   "id": "2aa39a22",
   "metadata": {},
   "outputs": [],
   "source": [
    "fig = plt.figure(figsize = (16, 6))\n",
    "ax = fig.add_subplot(1, 2, 1)\n",
    "\n",
    "epochs = range(1, len(history.history[\"val_loss\"]) + 1)  # Data nilai epoch\n",
    "\n",
    "ax.plot(epochs, history.history[\"val_loss\"], color='blue', linestyle='-', marker='x', label=\"VGG Validation Loss\")\n",
    "ax.plot(epochs, history_le_35.history[\"val_loss\"], color='purple', linestyle='-', marker='x', label = \"LeNet Validation Loss\")\n",
    "ax.legend(prop={'size': 14})\n",
    "ax.legend()\n",
    "ax.set_title(\"Cross entropy loss dari kedua model, epoch 35\", fontsize=14)\n",
    "ax.set_xlabel(\"Epochs\")  # Memberi label pada sumbu x\n",
    "ax.set_ylabel(\"Loss\")  # Memberi label pada sumbu y\n",
    "ax.grid(True)\n",
    "\n",
    "ax = fig.add_subplot(1, 2, 2)\n",
    "ax.plot(epochs, history.history[\"val_accuracy\"], color='blue', linestyle='-', marker='x', label = \"VGG Validation Accuracy\")\n",
    "ax.plot(epochs, history_le_35.history[\"val_accuracy\"], color='purple', linestyle='-', marker='x',label = \"LeNet Validation Accuracy\")\n",
    "ax.set_xlabel(\"Epochs\")  # Memberi label pada sumbu x\n",
    "ax.set_ylabel(\"Accuracy\")  # Memberi label pada sumbu y\n",
    "ax.legend(prop={'size': 14})\n",
    "ax.legend()\n",
    "ax.set_title(\"Accuracy dari kedua model, epoch 35\", fontsize=14)\n",
    "ax.grid(True)"
   ]
  },
  {
   "cell_type": "code",
   "execution_count": null,
   "id": "0d7339b8",
   "metadata": {},
   "outputs": [],
   "source": [
    "fig = plt.figure(figsize = (18, 6))\n",
    "ax = fig.add_subplot(1, 2, 1)\n",
    "\n",
    "epochs = range(1, len(history_50.history[\"val_loss\"]) + 1)  # Data nilai epoch\n",
    "\n",
    "ax.plot(epochs, history_50.history[\"val_loss\"], color='blue', linestyle='-', marker='x', label=\"VGG Validation Loss\")\n",
    "ax.plot(epochs, history_le_50.history[\"val_loss\"], color='purple', linestyle='-', marker='x', label = \"LeNet Validation Loss\")\n",
    "ax.legend(prop={'size': 14})\n",
    "ax.legend()\n",
    "ax.set_title(\"Cross entropy loss dari kedua model, epoch 50\", fontsize=14)\n",
    "ax.set_xlabel(\"Epochs\")  # Memberi label pada sumbu x\n",
    "ax.set_ylabel(\"Loss\")  # Memberi label pada sumbu y\n",
    "ax.grid(True)\n",
    "\n",
    "ax = fig.add_subplot(1, 2, 2)\n",
    "ax.plot(epochs, history_50.history[\"val_accuracy\"], color='blue', linestyle='-', marker='x', label = \"VGG Validation Accuracy\")\n",
    "ax.plot(epochs, history_le_50.history[\"val_accuracy\"], color='purple', linestyle='-', marker='x',label = \"LeNet Validation Accuracy\")\n",
    "ax.set_xlabel(\"Epochs\")  # Memberi label pada sumbu x\n",
    "ax.set_ylabel(\"Accuracy\")  # Memberi label pada sumbu y\n",
    "ax.legend(prop={'size': 14})\n",
    "ax.legend()\n",
    "ax.set_title(\"Accuracy dari kedua model, epoch 50\", fontsize=14)\n",
    "ax.grid(True)"
   ]
  },
  {
   "cell_type": "code",
   "execution_count": null,
   "id": "07d55ff7",
   "metadata": {},
   "outputs": [],
   "source": [
    "fig = plt.figure(figsize = (18, 8))\n",
    "ax = fig.add_subplot(1, 2, 1)\n",
    "\n",
    "epochs = range(1, len(history_100.history[\"val_loss\"]) + 1)  # Data nilai epoch\n",
    "\n",
    "ax.plot(epochs, history_100.history[\"val_loss\"], color='blue', linestyle='-', marker='x', label=\"VGG Validation Loss\")\n",
    "ax.plot(epochs, history_le_100.history[\"val_loss\"], color='purple', linestyle='-', marker='x', label = \"LeNet Validation Loss\")\n",
    "ax.legend(prop={'size': 14})\n",
    "ax.legend()\n",
    "ax.set_title(\"Cross entropy loss dari kedua model, epoch 100\", fontsize=14)\n",
    "ax.set_xlabel(\"Epochs\")  # Memberi label pada sumbu x\n",
    "ax.set_ylabel(\"Loss\")  # Memberi label pada sumbu y\n",
    "ax.grid(True)\n",
    "\n",
    "ax = fig.add_subplot(1, 2, 2)\n",
    "ax.plot(epochs, history_100.history[\"val_accuracy\"], color='blue', linestyle='-', marker='x', label = \"VGG Validation Accuracy\")\n",
    "ax.plot(epochs, history_le_100.history[\"val_accuracy\"], color='purple', linestyle='-', marker='x',label = \"LeNet Validation Accuracy\")\n",
    "ax.set_xlabel(\"Epochs\")  # Memberi label pada sumbu x\n",
    "ax.set_ylabel(\"Accuracy\")  # Memberi label pada sumbu y\n",
    "ax.legend(prop={'size': 14})\n",
    "ax.legend()\n",
    "ax.set_title(\"Accuracy dari kedua model, epoch 100\", fontsize=14)\n",
    "ax.grid(True)"
   ]
  },
  {
   "cell_type": "code",
   "execution_count": 1,
   "id": "436f1eb9",
   "metadata": {},
   "outputs": [
    {
     "ename": "NameError",
     "evalue": "name 'model' is not defined",
     "output_type": "error",
     "traceback": [
      "\u001b[1;31m---------------------------------------------------------------------------\u001b[0m",
      "\u001b[1;31mNameError\u001b[0m                                 Traceback (most recent call last)",
      "Input \u001b[1;32mIn [1]\u001b[0m, in \u001b[0;36m<cell line: 2>\u001b[1;34m()\u001b[0m\n\u001b[0;32m      1\u001b[0m \u001b[38;5;66;03m# tensorflow.saved_model.save(model, './test')\u001b[39;00m\n\u001b[1;32m----> 2\u001b[0m \u001b[43mmodel\u001b[49m\u001b[38;5;241m.\u001b[39msave(\u001b[38;5;124m'\u001b[39m\u001b[38;5;124mdrowsiness_vgg_non_gpu_35.h5\u001b[39m\u001b[38;5;124m'\u001b[39m)\n\u001b[0;32m      3\u001b[0m model_vgg50\u001b[38;5;241m.\u001b[39msave(\u001b[38;5;124m'\u001b[39m\u001b[38;5;124mdrowsiness_vgg_non_gpu_50.h5\u001b[39m\u001b[38;5;124m'\u001b[39m)\n\u001b[0;32m      4\u001b[0m model_vgg100\u001b[38;5;241m.\u001b[39msave(\u001b[38;5;124m'\u001b[39m\u001b[38;5;124mdrowsiness_vgg_non_gpu_100.h5\u001b[39m\u001b[38;5;124m'\u001b[39m)\n",
      "\u001b[1;31mNameError\u001b[0m: name 'model' is not defined"
     ]
    }
   ],
   "source": [
    "# tensorflow.saved_model.save(model, './test')\n",
    "model.save('drowsiness_vgg_non_gpu_35.h5')\n",
    "model_vgg50.save('drowsiness_vgg_non_gpu_50.h5')\n",
    "model_vgg100.save('drowsiness_vgg_non_gpu_100.h5')"
   ]
  },
  {
   "cell_type": "code",
   "execution_count": null,
   "id": "2686e539",
   "metadata": {},
   "outputs": [],
   "source": [
    "model_le.save('drowsiness_le_non_gpu_35.h5')\n",
    "model_le_50.save('drowsiness_le_non_gpu_50.h5')\n",
    "model_le_100.save('drowsiness_le_non_gpu_100.h5')\n"
   ]
  },
  {
   "cell_type": "code",
   "execution_count": null,
   "id": "34930415",
   "metadata": {},
   "outputs": [],
   "source": []
  },
  {
   "cell_type": "code",
   "execution_count": null,
   "id": "b2a2e1e9",
   "metadata": {},
   "outputs": [],
   "source": []
  },
  {
   "cell_type": "code",
   "execution_count": 1,
   "id": "f0acf6c5",
   "metadata": {},
   "outputs": [
    {
     "name": "stderr",
     "output_type": "stream",
     "text": [
      "C:\\Users\\Lenovo\\anaconda3\\lib\\site-packages\\scipy\\__init__.py:146: UserWarning: A NumPy version >=1.16.5 and <1.23.0 is required for this version of SciPy (detected version 1.25.0\n",
      "  warnings.warn(f\"A NumPy version >={np_minversion} and <{np_maxversion}\"\n"
     ]
    }
   ],
   "source": [
    "from tensorflow.keras.models import load_model\n",
    "import numpy as np\n",
    "model_vgg_35 = load_model('drowsiness_vgg_non_gpu_35.h5')\n",
    "model_vgg_50 = load_model('drowsiness_vgg_non_gpu_50.h5')\n",
    "model_vgg_100 = load_model('drowsiness_vgg_non_gpu_100.h5')\n",
    "\n",
    "model_lenet_35 = load_model('drowsiness_le_non_gpu_35.h5')\n",
    "model_lenet_50 = load_model('drowsiness_le_non_gpu_50.h5')\n",
    "model_lenet_100 = load_model('drowsiness_le_non_gpu_100.h5')\n"
   ]
  },
  {
   "cell_type": "code",
   "execution_count": 2,
   "id": "e45157f8",
   "metadata": {},
   "outputs": [
    {
     "ename": "NameError",
     "evalue": "name 'y_test' is not defined",
     "output_type": "error",
     "traceback": [
      "\u001b[1;31m---------------------------------------------------------------------------\u001b[0m",
      "\u001b[1;31mNameError\u001b[0m                                 Traceback (most recent call last)",
      "Input \u001b[1;32mIn [2]\u001b[0m, in \u001b[0;36m<cell line: 1>\u001b[1;34m()\u001b[0m\n\u001b[1;32m----> 1\u001b[0m y_test \u001b[38;5;241m=\u001b[39m np\u001b[38;5;241m.\u001b[39margmax(\u001b[43my_test\u001b[49m, axis\u001b[38;5;241m=\u001b[39m\u001b[38;5;241m1\u001b[39m)\n",
      "\u001b[1;31mNameError\u001b[0m: name 'y_test' is not defined"
     ]
    }
   ],
   "source": [
    "y_test = np.argmax(y_test, axis=1)"
   ]
  },
  {
   "cell_type": "code",
   "execution_count": null,
   "id": "e33a6727",
   "metadata": {},
   "outputs": [],
   "source": [
    "def confusion_matrix_for(cls, cm):\n",
    "    TP = cm[cls, cls]\n",
    "    FN = cm[cls].sum() - TP\n",
    "    FP = cm[:, cls].sum() - TP\n",
    "    TN = cm.sum() - TP - FN - FP\n",
    "    return np.array([TP, FN, FP, TN])"
   ]
  },
  {
   "cell_type": "code",
   "execution_count": null,
   "id": "b491a1f0",
   "metadata": {},
   "outputs": [],
   "source": [
    "def confusion_matrix_score(tp, fn, fp, tn):\n",
    "    akurasi = ((tp + tn) / (tp + fp + fn + tn)) * 100\n",
    "    presisi = (tp / (tp + fp)) * 100\n",
    "    recall = (tp / (tp + fn)) * 100\n",
    "    return akurasi, presisi, recall"
   ]
  },
  {
   "cell_type": "code",
   "execution_count": null,
   "id": "c5476615",
   "metadata": {},
   "outputs": [],
   "source": [
    "from sklearn.metrics import confusion_matrix"
   ]
  },
  {
   "cell_type": "code",
   "execution_count": null,
   "id": "dfb3e988",
   "metadata": {},
   "outputs": [],
   "source": [
    "#VGG_35\n",
    "y_pred_vgg35 = np.argmax(model_vgg_35.predict(x_test), axis=1)\n",
    "cm_vgg35 = confusion_matrix(y_test, y_pred_vgg35)"
   ]
  },
  {
   "cell_type": "code",
   "execution_count": null,
   "id": "b4b77b67",
   "metadata": {},
   "outputs": [],
   "source": [
    "import seaborn as sns\n",
    "\n",
    "# Membuat heatmap dari confusion matrix\n",
    "plt.figure(figsize=(8, 6))\n",
    "sns.heatmap(cm_vgg35, annot=True, cmap='Blues', fmt='d', xticklabels=['Class 0', 'Class 1', 'Class 2', 'Class 3'], yticklabels=['Class 0', 'Class 1', 'Class 2', 'Class 3'])\n",
    "plt.xlabel('Predicted Class')\n",
    "plt.ylabel('Actual Class')\n",
    "plt.title('Confusion Matrix VGG 35')\n",
    "plt.show()\n"
   ]
  },
  {
   "cell_type": "code",
   "execution_count": null,
   "id": "5d6249ec",
   "metadata": {},
   "outputs": [],
   "source": [
    "lst_vgg35 = []\n",
    "\n",
    "for cls in range(cm_vgg35.shape[0]):\n",
    "    TP, FN, FP, TN = confusion_matrix_for(cls, cm_vgg35).ravel()\n",
    "    lst_vgg35.append([TP, FN, FP, TN])\n",
    "    \n",
    "for i in range(len(lst_vgg35)):\n",
    "    print(f'Hasil dari setiap class {i}')\n",
    "    akurasi, presisi, recall = confusion_matrix_score(lst_vgg35[i][0], lst_vgg35[i][1], lst_vgg35[i][2], lst_vgg35[i][3])\n",
    "    print(f'Akurasi: {akurasi:.4f}, Presisi: {presisi:.4f}, Recall: {recall:.4f}')\n",
    "    print()"
   ]
  },
  {
   "cell_type": "code",
   "execution_count": null,
   "id": "e272badb",
   "metadata": {},
   "outputs": [],
   "source": [
    "y_pred_le35 = np.argmax(model_lenet_35.predict(x_test), axis=1)\n",
    "cm_le35 = confusion_matrix(y_test, y_pred_le35)\n",
    "print(cm_le35)"
   ]
  },
  {
   "cell_type": "code",
   "execution_count": null,
   "id": "360143d1",
   "metadata": {},
   "outputs": [],
   "source": [
    "plt.figure(figsize=(8, 6))\n",
    "sns.heatmap(cm_le35, annot=True, cmap='Blues', fmt='d', xticklabels=['Class 0', 'Class 1', 'Class 2', 'Class 3'], yticklabels=['Class 0', 'Class 1', 'Class 2', 'Class 3'])\n",
    "plt.xlabel('Predicted Class')\n",
    "plt.ylabel('Actual Class')\n",
    "plt.title('Confusion Matrix LeNet 35')\n",
    "plt.show()"
   ]
  },
  {
   "cell_type": "code",
   "execution_count": null,
   "id": "e44f9a08",
   "metadata": {},
   "outputs": [],
   "source": [
    "lst_le35 = []\n",
    "\n",
    "for cls in range(cm_le35.shape[0]):\n",
    "    TP, FN, FP, TN = confusion_matrix_for(cls, cm_le35).ravel()\n",
    "    lst_le35.append([TP, FN, FP, TN])\n",
    "    \n",
    "for i in range(len(lst_le35)):\n",
    "    print(f'Hasil dari setiap class {i}')\n",
    "    akurasi, presisi, recall = confusion_matrix_score(lst_le35[i][0], lst_le35[i][1], lst_le35[i][2], lst_le35[i][3])\n",
    "    print(f'Akurasi: {akurasi:.4f}, Presisi: {presisi:.4f}, Recall: {recall:.4f}')\n",
    "    print()"
   ]
  },
  {
   "cell_type": "code",
   "execution_count": null,
   "id": "579247ea",
   "metadata": {},
   "outputs": [],
   "source": [
    "y_pred_vgg50 = np.argmax(model_vgg_50.predict(x_test), axis=1)\n",
    "cm_vgg50 = confusion_matrix(y_test, y_pred_vgg50)"
   ]
  },
  {
   "cell_type": "code",
   "execution_count": null,
   "id": "7ccd1e71",
   "metadata": {},
   "outputs": [],
   "source": [
    "plt.figure(figsize=(8, 6))\n",
    "sns.heatmap(cm_vgg50, annot=True, cmap='Blues', fmt='d', xticklabels=['Class 0', 'Class 1', 'Class 2', 'Class 3'], yticklabels=['Class 0', 'Class 1', 'Class 2', 'Class 3'])\n",
    "plt.xlabel('Predicted Class')\n",
    "plt.ylabel('Actual Class')\n",
    "plt.title('Confusion Matrix VGG 50')\n",
    "plt.show()"
   ]
  },
  {
   "cell_type": "code",
   "execution_count": null,
   "id": "3ec4f633",
   "metadata": {},
   "outputs": [],
   "source": [
    "lst_vgg50 = []\n",
    "\n",
    "for cls in range(cm_vgg50.shape[0]):\n",
    "    TP, FN, FP, TN = confusion_matrix_for(cls, cm_vgg50)\n",
    "    lst_vgg50.append([TP, FN, FP, TN])\n",
    "    \n",
    "for i in range(len(lst_vgg50)):\n",
    "    print(f'Hasil dari setiap class {i}')\n",
    "    akurasi, presisi, recall = confusion_matrix_score(lst_vgg50[i][0], lst_vgg50[i][1], lst_vgg50[i][2], lst_vgg50[i][3])\n",
    "    print(f'Akurasi: {akurasi:.4f}, Presisi: {presisi:.4f}, Recall: {recall:.4f}')\n",
    "    print()"
   ]
  },
  {
   "cell_type": "code",
   "execution_count": 3,
   "id": "f1c766d7",
   "metadata": {},
   "outputs": [
    {
     "ename": "NameError",
     "evalue": "name 'lst_vgg50' is not defined",
     "output_type": "error",
     "traceback": [
      "\u001b[1;31m---------------------------------------------------------------------------\u001b[0m",
      "\u001b[1;31mNameError\u001b[0m                                 Traceback (most recent call last)",
      "Input \u001b[1;32mIn [3]\u001b[0m, in \u001b[0;36m<cell line: 1>\u001b[1;34m()\u001b[0m\n\u001b[1;32m----> 1\u001b[0m \u001b[38;5;28mprint\u001b[39m(\u001b[43mlst_vgg50\u001b[49m)\n",
      "\u001b[1;31mNameError\u001b[0m: name 'lst_vgg50' is not defined"
     ]
    }
   ],
   "source": [
    "print(lst_vgg50)"
   ]
  },
  {
   "cell_type": "code",
   "execution_count": 4,
   "id": "0a07ecbc",
   "metadata": {},
   "outputs": [
    {
     "ename": "NameError",
     "evalue": "name 'x_test' is not defined",
     "output_type": "error",
     "traceback": [
      "\u001b[1;31m---------------------------------------------------------------------------\u001b[0m",
      "\u001b[1;31mNameError\u001b[0m                                 Traceback (most recent call last)",
      "Input \u001b[1;32mIn [4]\u001b[0m, in \u001b[0;36m<cell line: 1>\u001b[1;34m()\u001b[0m\n\u001b[1;32m----> 1\u001b[0m y_pred_le50 \u001b[38;5;241m=\u001b[39m np\u001b[38;5;241m.\u001b[39margmax(model_lenet_50\u001b[38;5;241m.\u001b[39mpredict(\u001b[43mx_test\u001b[49m), axis\u001b[38;5;241m=\u001b[39m\u001b[38;5;241m1\u001b[39m)\n\u001b[0;32m      2\u001b[0m cm_le50 \u001b[38;5;241m=\u001b[39m confusion_matrix(y_test, y_pred_le50)\n",
      "\u001b[1;31mNameError\u001b[0m: name 'x_test' is not defined"
     ]
    }
   ],
   "source": [
    "y_pred_le50 = np.argmax(model_lenet_50.predict(x_test), axis=1)\n",
    "cm_le50 = confusion_matrix(y_test, y_pred_le50)"
   ]
  },
  {
   "cell_type": "code",
   "execution_count": 5,
   "id": "82081f7c",
   "metadata": {},
   "outputs": [
    {
     "ename": "NameError",
     "evalue": "name 'plt' is not defined",
     "output_type": "error",
     "traceback": [
      "\u001b[1;31m---------------------------------------------------------------------------\u001b[0m",
      "\u001b[1;31mNameError\u001b[0m                                 Traceback (most recent call last)",
      "Input \u001b[1;32mIn [5]\u001b[0m, in \u001b[0;36m<cell line: 1>\u001b[1;34m()\u001b[0m\n\u001b[1;32m----> 1\u001b[0m \u001b[43mplt\u001b[49m\u001b[38;5;241m.\u001b[39mfigure(figsize\u001b[38;5;241m=\u001b[39m(\u001b[38;5;241m8\u001b[39m, \u001b[38;5;241m6\u001b[39m))\n\u001b[0;32m      2\u001b[0m sns\u001b[38;5;241m.\u001b[39mheatmap(cm_le50, annot\u001b[38;5;241m=\u001b[39m\u001b[38;5;28;01mTrue\u001b[39;00m, cmap\u001b[38;5;241m=\u001b[39m\u001b[38;5;124m'\u001b[39m\u001b[38;5;124mBlues\u001b[39m\u001b[38;5;124m'\u001b[39m, fmt\u001b[38;5;241m=\u001b[39m\u001b[38;5;124m'\u001b[39m\u001b[38;5;124md\u001b[39m\u001b[38;5;124m'\u001b[39m, xticklabels\u001b[38;5;241m=\u001b[39m[\u001b[38;5;124m'\u001b[39m\u001b[38;5;124mClass 0\u001b[39m\u001b[38;5;124m'\u001b[39m, \u001b[38;5;124m'\u001b[39m\u001b[38;5;124mClass 1\u001b[39m\u001b[38;5;124m'\u001b[39m, \u001b[38;5;124m'\u001b[39m\u001b[38;5;124mClass 2\u001b[39m\u001b[38;5;124m'\u001b[39m, \u001b[38;5;124m'\u001b[39m\u001b[38;5;124mClass 3\u001b[39m\u001b[38;5;124m'\u001b[39m], yticklabels\u001b[38;5;241m=\u001b[39m[\u001b[38;5;124m'\u001b[39m\u001b[38;5;124mClass 0\u001b[39m\u001b[38;5;124m'\u001b[39m, \u001b[38;5;124m'\u001b[39m\u001b[38;5;124mClass 1\u001b[39m\u001b[38;5;124m'\u001b[39m, \u001b[38;5;124m'\u001b[39m\u001b[38;5;124mClass 2\u001b[39m\u001b[38;5;124m'\u001b[39m, \u001b[38;5;124m'\u001b[39m\u001b[38;5;124mClass 3\u001b[39m\u001b[38;5;124m'\u001b[39m])\n\u001b[0;32m      3\u001b[0m plt\u001b[38;5;241m.\u001b[39mxlabel(\u001b[38;5;124m'\u001b[39m\u001b[38;5;124mPredicted Class\u001b[39m\u001b[38;5;124m'\u001b[39m)\n",
      "\u001b[1;31mNameError\u001b[0m: name 'plt' is not defined"
     ]
    }
   ],
   "source": [
    "plt.figure(figsize=(8, 6))\n",
    "sns.heatmap(cm_le50, annot=True, cmap='Blues', fmt='d', xticklabels=['Class 0', 'Class 1', 'Class 2', 'Class 3'], yticklabels=['Class 0', 'Class 1', 'Class 2', 'Class 3'])\n",
    "plt.xlabel('Predicted Class')\n",
    "plt.ylabel('Actual Class')\n",
    "plt.title('Confusion Matrix VGG 50')\n",
    "plt.show()"
   ]
  },
  {
   "cell_type": "code",
   "execution_count": 6,
   "id": "8f313ffc",
   "metadata": {},
   "outputs": [
    {
     "ename": "NameError",
     "evalue": "name 'cm_le50' is not defined",
     "output_type": "error",
     "traceback": [
      "\u001b[1;31m---------------------------------------------------------------------------\u001b[0m",
      "\u001b[1;31mNameError\u001b[0m                                 Traceback (most recent call last)",
      "Input \u001b[1;32mIn [6]\u001b[0m, in \u001b[0;36m<cell line: 3>\u001b[1;34m()\u001b[0m\n\u001b[0;32m      1\u001b[0m lst_le50 \u001b[38;5;241m=\u001b[39m []\n\u001b[1;32m----> 3\u001b[0m \u001b[38;5;28;01mfor\u001b[39;00m \u001b[38;5;28mcls\u001b[39m \u001b[38;5;129;01min\u001b[39;00m \u001b[38;5;28mrange\u001b[39m(\u001b[43mcm_le50\u001b[49m\u001b[38;5;241m.\u001b[39mshape[\u001b[38;5;241m0\u001b[39m]):\n\u001b[0;32m      4\u001b[0m     TP, FN, FP, TN \u001b[38;5;241m=\u001b[39m confusion_matrix_for(\u001b[38;5;28mcls\u001b[39m, cm_le50)\u001b[38;5;241m.\u001b[39mravel()\n\u001b[0;32m      5\u001b[0m     lst_le50\u001b[38;5;241m.\u001b[39mappend([TP, FN, FP, TN])\n",
      "\u001b[1;31mNameError\u001b[0m: name 'cm_le50' is not defined"
     ]
    }
   ],
   "source": [
    "lst_le50 = []\n",
    "\n",
    "for cls in range(cm_le50.shape[0]):\n",
    "    TP, FN, FP, TN = confusion_matrix_for(cls, cm_le50).ravel()\n",
    "    lst_le50.append([TP, FN, FP, TN])\n",
    "    \n",
    "for i in range(len(lst_le50)):\n",
    "    print(f'Hasil dari setiap class {i}')\n",
    "    akurasi, presisi, recall = confusion_matrix_score(lst_le50[i][0], lst_le50[i][1], lst_le50[i][2], lst_le50[i][3])\n",
    "    print(f'Akurasi: {akurasi:.4f}, Presisi: {presisi:.4f}, Recall: {recall:.4f}')\n",
    "    print()"
   ]
  },
  {
   "cell_type": "code",
   "execution_count": 7,
   "id": "3f7327ce",
   "metadata": {},
   "outputs": [
    {
     "ename": "NameError",
     "evalue": "name 'x_test' is not defined",
     "output_type": "error",
     "traceback": [
      "\u001b[1;31m---------------------------------------------------------------------------\u001b[0m",
      "\u001b[1;31mNameError\u001b[0m                                 Traceback (most recent call last)",
      "Input \u001b[1;32mIn [7]\u001b[0m, in \u001b[0;36m<cell line: 1>\u001b[1;34m()\u001b[0m\n\u001b[1;32m----> 1\u001b[0m y_pred_vgg100 \u001b[38;5;241m=\u001b[39m np\u001b[38;5;241m.\u001b[39margmax(model_vgg_100\u001b[38;5;241m.\u001b[39mpredict(\u001b[43mx_test\u001b[49m), axis\u001b[38;5;241m=\u001b[39m\u001b[38;5;241m1\u001b[39m)\n\u001b[0;32m      2\u001b[0m cm_vgg100 \u001b[38;5;241m=\u001b[39m confusion_matrix(y_test, y_pred_vgg100)\n",
      "\u001b[1;31mNameError\u001b[0m: name 'x_test' is not defined"
     ]
    }
   ],
   "source": [
    "y_pred_vgg100 = np.argmax(model_vgg_100.predict(x_test), axis=1)\n",
    "cm_vgg100 = confusion_matrix(y_test, y_pred_vgg100)"
   ]
  },
  {
   "cell_type": "code",
   "execution_count": 8,
   "id": "b8ce2bd7",
   "metadata": {},
   "outputs": [
    {
     "ename": "NameError",
     "evalue": "name 'plt' is not defined",
     "output_type": "error",
     "traceback": [
      "\u001b[1;31m---------------------------------------------------------------------------\u001b[0m",
      "\u001b[1;31mNameError\u001b[0m                                 Traceback (most recent call last)",
      "Input \u001b[1;32mIn [8]\u001b[0m, in \u001b[0;36m<cell line: 1>\u001b[1;34m()\u001b[0m\n\u001b[1;32m----> 1\u001b[0m \u001b[43mplt\u001b[49m\u001b[38;5;241m.\u001b[39mfigure(figsize\u001b[38;5;241m=\u001b[39m(\u001b[38;5;241m8\u001b[39m, \u001b[38;5;241m6\u001b[39m))\n\u001b[0;32m      2\u001b[0m sns\u001b[38;5;241m.\u001b[39mheatmap(cm_vgg100, annot\u001b[38;5;241m=\u001b[39m\u001b[38;5;28;01mTrue\u001b[39;00m, cmap\u001b[38;5;241m=\u001b[39m\u001b[38;5;124m'\u001b[39m\u001b[38;5;124mBlues\u001b[39m\u001b[38;5;124m'\u001b[39m, fmt\u001b[38;5;241m=\u001b[39m\u001b[38;5;124m'\u001b[39m\u001b[38;5;124md\u001b[39m\u001b[38;5;124m'\u001b[39m, xticklabels\u001b[38;5;241m=\u001b[39m[\u001b[38;5;124m'\u001b[39m\u001b[38;5;124mClass 0\u001b[39m\u001b[38;5;124m'\u001b[39m, \u001b[38;5;124m'\u001b[39m\u001b[38;5;124mClass 1\u001b[39m\u001b[38;5;124m'\u001b[39m, \u001b[38;5;124m'\u001b[39m\u001b[38;5;124mClass 2\u001b[39m\u001b[38;5;124m'\u001b[39m, \u001b[38;5;124m'\u001b[39m\u001b[38;5;124mClass 3\u001b[39m\u001b[38;5;124m'\u001b[39m], yticklabels\u001b[38;5;241m=\u001b[39m[\u001b[38;5;124m'\u001b[39m\u001b[38;5;124mClass 0\u001b[39m\u001b[38;5;124m'\u001b[39m, \u001b[38;5;124m'\u001b[39m\u001b[38;5;124mClass 1\u001b[39m\u001b[38;5;124m'\u001b[39m, \u001b[38;5;124m'\u001b[39m\u001b[38;5;124mClass 2\u001b[39m\u001b[38;5;124m'\u001b[39m, \u001b[38;5;124m'\u001b[39m\u001b[38;5;124mClass 3\u001b[39m\u001b[38;5;124m'\u001b[39m])\n\u001b[0;32m      3\u001b[0m plt\u001b[38;5;241m.\u001b[39mxlabel(\u001b[38;5;124m'\u001b[39m\u001b[38;5;124mPredicted Class\u001b[39m\u001b[38;5;124m'\u001b[39m)\n",
      "\u001b[1;31mNameError\u001b[0m: name 'plt' is not defined"
     ]
    }
   ],
   "source": [
    "plt.figure(figsize=(8, 6))\n",
    "sns.heatmap(cm_vgg100, annot=True, cmap='Blues', fmt='d', xticklabels=['Class 0', 'Class 1', 'Class 2', 'Class 3'], yticklabels=['Class 0', 'Class 1', 'Class 2', 'Class 3'])\n",
    "plt.xlabel('Predicted Class')\n",
    "plt.ylabel('Actual Class')\n",
    "plt.title('Confusion Matrix VGG 50')\n",
    "plt.show()"
   ]
  },
  {
   "cell_type": "code",
   "execution_count": 9,
   "id": "8a63b94c",
   "metadata": {},
   "outputs": [
    {
     "ename": "NameError",
     "evalue": "name 'cm_vgg100' is not defined",
     "output_type": "error",
     "traceback": [
      "\u001b[1;31m---------------------------------------------------------------------------\u001b[0m",
      "\u001b[1;31mNameError\u001b[0m                                 Traceback (most recent call last)",
      "Input \u001b[1;32mIn [9]\u001b[0m, in \u001b[0;36m<cell line: 3>\u001b[1;34m()\u001b[0m\n\u001b[0;32m      1\u001b[0m lst_vgg100 \u001b[38;5;241m=\u001b[39m []\n\u001b[1;32m----> 3\u001b[0m \u001b[38;5;28;01mfor\u001b[39;00m \u001b[38;5;28mcls\u001b[39m \u001b[38;5;129;01min\u001b[39;00m \u001b[38;5;28mrange\u001b[39m(\u001b[43mcm_vgg100\u001b[49m\u001b[38;5;241m.\u001b[39mshape[\u001b[38;5;241m0\u001b[39m]):\n\u001b[0;32m      4\u001b[0m     TP, FN, FP, TN \u001b[38;5;241m=\u001b[39m confusion_matrix_for(\u001b[38;5;28mcls\u001b[39m, cm_vgg100)\u001b[38;5;241m.\u001b[39mravel()\n\u001b[0;32m      5\u001b[0m     lst_vgg100\u001b[38;5;241m.\u001b[39mappend([TP, FN, FP, TN])\n",
      "\u001b[1;31mNameError\u001b[0m: name 'cm_vgg100' is not defined"
     ]
    }
   ],
   "source": [
    "lst_vgg100 = []\n",
    "\n",
    "for cls in range(cm_vgg100.shape[0]):\n",
    "    TP, FN, FP, TN = confusion_matrix_for(cls, cm_vgg100).ravel()\n",
    "    lst_vgg100.append([TP, FN, FP, TN])\n",
    "    \n",
    "for i in range(len(lst_vgg100)):\n",
    "    print(f'Hasil dari setiap class {i}')\n",
    "    akurasi, presisi, recall = confusion_matrix_score(lst_vgg100[i][0], lst_vgg100[i][1], lst_vgg100[i][2], lst_vgg100[i][3])\n",
    "    print(f'Akurasi: {akurasi:.4f}, Presisi: {presisi:.4f}, Recall: {recall:.4f}')\n",
    "    print()"
   ]
  },
  {
   "cell_type": "code",
   "execution_count": 10,
   "id": "539896dc",
   "metadata": {},
   "outputs": [
    {
     "ename": "NameError",
     "evalue": "name 'x_test' is not defined",
     "output_type": "error",
     "traceback": [
      "\u001b[1;31m---------------------------------------------------------------------------\u001b[0m",
      "\u001b[1;31mNameError\u001b[0m                                 Traceback (most recent call last)",
      "Input \u001b[1;32mIn [10]\u001b[0m, in \u001b[0;36m<cell line: 1>\u001b[1;34m()\u001b[0m\n\u001b[1;32m----> 1\u001b[0m y_pred_le100 \u001b[38;5;241m=\u001b[39m np\u001b[38;5;241m.\u001b[39margmax(model_lenet_100\u001b[38;5;241m.\u001b[39mpredict(\u001b[43mx_test\u001b[49m), axis\u001b[38;5;241m=\u001b[39m\u001b[38;5;241m1\u001b[39m)\n\u001b[0;32m      2\u001b[0m cm_le100 \u001b[38;5;241m=\u001b[39m confusion_matrix(y_test, y_pred_le100)\n",
      "\u001b[1;31mNameError\u001b[0m: name 'x_test' is not defined"
     ]
    }
   ],
   "source": [
    "y_pred_le100 = np.argmax(model_lenet_100.predict(x_test), axis=1)\n",
    "cm_le100 = confusion_matrix(y_test, y_pred_le100)"
   ]
  },
  {
   "cell_type": "code",
   "execution_count": 11,
   "id": "f39802bc",
   "metadata": {},
   "outputs": [
    {
     "ename": "NameError",
     "evalue": "name 'plt' is not defined",
     "output_type": "error",
     "traceback": [
      "\u001b[1;31m---------------------------------------------------------------------------\u001b[0m",
      "\u001b[1;31mNameError\u001b[0m                                 Traceback (most recent call last)",
      "Input \u001b[1;32mIn [11]\u001b[0m, in \u001b[0;36m<cell line: 1>\u001b[1;34m()\u001b[0m\n\u001b[1;32m----> 1\u001b[0m \u001b[43mplt\u001b[49m\u001b[38;5;241m.\u001b[39mfigure(figsize\u001b[38;5;241m=\u001b[39m(\u001b[38;5;241m8\u001b[39m, \u001b[38;5;241m6\u001b[39m))\n\u001b[0;32m      2\u001b[0m sns\u001b[38;5;241m.\u001b[39mheatmap(cm_le100, annot\u001b[38;5;241m=\u001b[39m\u001b[38;5;28;01mTrue\u001b[39;00m, cmap\u001b[38;5;241m=\u001b[39m\u001b[38;5;124m'\u001b[39m\u001b[38;5;124mBlues\u001b[39m\u001b[38;5;124m'\u001b[39m, fmt\u001b[38;5;241m=\u001b[39m\u001b[38;5;124m'\u001b[39m\u001b[38;5;124md\u001b[39m\u001b[38;5;124m'\u001b[39m, xticklabels\u001b[38;5;241m=\u001b[39m[\u001b[38;5;124m'\u001b[39m\u001b[38;5;124mClass 0\u001b[39m\u001b[38;5;124m'\u001b[39m, \u001b[38;5;124m'\u001b[39m\u001b[38;5;124mClass 1\u001b[39m\u001b[38;5;124m'\u001b[39m, \u001b[38;5;124m'\u001b[39m\u001b[38;5;124mClass 2\u001b[39m\u001b[38;5;124m'\u001b[39m, \u001b[38;5;124m'\u001b[39m\u001b[38;5;124mClass 3\u001b[39m\u001b[38;5;124m'\u001b[39m], yticklabels\u001b[38;5;241m=\u001b[39m[\u001b[38;5;124m'\u001b[39m\u001b[38;5;124mClass 0\u001b[39m\u001b[38;5;124m'\u001b[39m, \u001b[38;5;124m'\u001b[39m\u001b[38;5;124mClass 1\u001b[39m\u001b[38;5;124m'\u001b[39m, \u001b[38;5;124m'\u001b[39m\u001b[38;5;124mClass 2\u001b[39m\u001b[38;5;124m'\u001b[39m, \u001b[38;5;124m'\u001b[39m\u001b[38;5;124mClass 3\u001b[39m\u001b[38;5;124m'\u001b[39m])\n\u001b[0;32m      3\u001b[0m plt\u001b[38;5;241m.\u001b[39mxlabel(\u001b[38;5;124m'\u001b[39m\u001b[38;5;124mPredicted Class\u001b[39m\u001b[38;5;124m'\u001b[39m)\n",
      "\u001b[1;31mNameError\u001b[0m: name 'plt' is not defined"
     ]
    }
   ],
   "source": [
    "plt.figure(figsize=(8, 6))\n",
    "sns.heatmap(cm_le100, annot=True, cmap='Blues', fmt='d', xticklabels=['Class 0', 'Class 1', 'Class 2', 'Class 3'], yticklabels=['Class 0', 'Class 1', 'Class 2', 'Class 3'])\n",
    "plt.xlabel('Predicted Class')\n",
    "plt.ylabel('Actual Class')\n",
    "plt.title('Confusion Matrix LeNet 100')\n",
    "plt.show()"
   ]
  },
  {
   "cell_type": "code",
   "execution_count": 12,
   "id": "b7170655",
   "metadata": {},
   "outputs": [
    {
     "ename": "NameError",
     "evalue": "name 'cm_le100' is not defined",
     "output_type": "error",
     "traceback": [
      "\u001b[1;31m---------------------------------------------------------------------------\u001b[0m",
      "\u001b[1;31mNameError\u001b[0m                                 Traceback (most recent call last)",
      "Input \u001b[1;32mIn [12]\u001b[0m, in \u001b[0;36m<cell line: 3>\u001b[1;34m()\u001b[0m\n\u001b[0;32m      1\u001b[0m lst_le100 \u001b[38;5;241m=\u001b[39m []\n\u001b[1;32m----> 3\u001b[0m \u001b[38;5;28;01mfor\u001b[39;00m \u001b[38;5;28mcls\u001b[39m \u001b[38;5;129;01min\u001b[39;00m \u001b[38;5;28mrange\u001b[39m(\u001b[43mcm_le100\u001b[49m\u001b[38;5;241m.\u001b[39mshape[\u001b[38;5;241m0\u001b[39m]):\n\u001b[0;32m      4\u001b[0m     TP, FN, FP, TN \u001b[38;5;241m=\u001b[39m confusion_matrix_for(\u001b[38;5;28mcls\u001b[39m, cm_le100)\u001b[38;5;241m.\u001b[39mravel()\n\u001b[0;32m      5\u001b[0m     lst_le100\u001b[38;5;241m.\u001b[39mappend([TP, FN, FP, TN])\n",
      "\u001b[1;31mNameError\u001b[0m: name 'cm_le100' is not defined"
     ]
    }
   ],
   "source": [
    "lst_le100 = []\n",
    "\n",
    "for cls in range(cm_le100.shape[0]):\n",
    "    TP, FN, FP, TN = confusion_matrix_for(cls, cm_le100).ravel()\n",
    "    lst_le100.append([TP, FN, FP, TN])\n",
    "    \n",
    "for i in range(len(lst_le50)):\n",
    "    print(f'Hasil dari setiap class {i}')\n",
    "    akurasi, presisi, recall = confusion_matrix_score(lst_le100[i][0], lst_le100[i][1], lst_le100[i][2], lst_le100[i][3])\n",
    "    print(f'Akurasi: {akurasi:.4f}, Presisi: {presisi:.4f}, Recall: {recall:.4f}')\n",
    "    print()"
   ]
  },
  {
   "cell_type": "code",
   "execution_count": 13,
   "id": "b84b812a",
   "metadata": {},
   "outputs": [
    {
     "ename": "NameError",
     "evalue": "name 'label_bin' is not defined",
     "output_type": "error",
     "traceback": [
      "\u001b[1;31m---------------------------------------------------------------------------\u001b[0m",
      "\u001b[1;31mNameError\u001b[0m                                 Traceback (most recent call last)",
      "Input \u001b[1;32mIn [13]\u001b[0m, in \u001b[0;36m<cell line: 1>\u001b[1;34m()\u001b[0m\n\u001b[1;32m----> 1\u001b[0m y_test_2 \u001b[38;5;241m=\u001b[39m \u001b[43mlabel_bin\u001b[49m\u001b[38;5;241m.\u001b[39mfit_transform(y_test)\n\u001b[0;32m      2\u001b[0m y_test_2 \u001b[38;5;241m=\u001b[39m np\u001b[38;5;241m.\u001b[39marray(y_test_2)\n\u001b[0;32m      3\u001b[0m \u001b[38;5;28mprint\u001b[39m(y_test_2)\n",
      "\u001b[1;31mNameError\u001b[0m: name 'label_bin' is not defined"
     ]
    }
   ],
   "source": [
    "y_test_2 = label_bin.fit_transform(y_test)\n",
    "y_test_2 = np.array(y_test_2)\n",
    "print(y_test_2)"
   ]
  },
  {
   "cell_type": "code",
   "execution_count": 14,
   "id": "1a88ead6",
   "metadata": {},
   "outputs": [],
   "source": [
    "def trapezoid_rule(x, y):\n",
    "    n = len(x)\n",
    "    auc = 0\n",
    "\n",
    "    for i in range(1, n):\n",
    "        h = x[i] - x[i-1]\n",
    "        area = (y[i] + y[i-1]) * h / 2.0\n",
    "        auc += area\n",
    "\n",
    "    return auc"
   ]
  },
  {
   "cell_type": "code",
   "execution_count": 41,
   "id": "e3e01ee1",
   "metadata": {},
   "outputs": [
    {
     "name": "stdout",
     "output_type": "stream",
     "text": [
      "12/12 [==============================] - 0s 32ms/step\n"
     ]
    }
   ],
   "source": [
    "from sklearn.metrics import roc_curve, auc\n",
    "\n",
    "y_pred_vgg_35 = model_vgg_35.predict(x_test)\n",
    "fpr_vgg35 = dict()\n",
    "tpr_vgg35 = dict()\n",
    "roc_auc_vgg35 = dict()\n",
    "for i in range(4):\n",
    "    fpr_vgg35[i], tpr_vgg35[i], _ = roc_curve(y_test_2[:, i], y_pred_vgg_35[:, i])\n",
    "    roc_auc_vgg35[i] = trapezoid_rule(fpr_vgg35[i], tpr_vgg35[i])"
   ]
  },
  {
   "cell_type": "code",
   "execution_count": 42,
   "id": "11548d71",
   "metadata": {
    "scrolled": true
   },
   "outputs": [
    {
     "data": {
      "image/png": "[encoded data removed]",
      "text/plain": [
       "<Figure size 576x432 with 1 Axes>"
      ]
     },
     "metadata": {
      "needs_background": "light"
     },
     "output_type": "display_data"
    }
   ],
   "source": [
    "plt.figure(figsize=(8,6))\n",
    "for i in range(4):\n",
    "    plt.plot(fpr_vgg35[i], tpr_vgg35[i], label=f'Kurva class pada {i} (AUC = {roc_auc_vgg35[i]:0.2f})')\n",
    "\n",
    "plt.plot([0, 1], [0, 1], 'k--')\n",
    "plt.xlim([0.0, 1.0])\n",
    "plt.ylim([0.0, 1.05])\n",
    "plt.xlabel('False Positive Rate')\n",
    "plt.ylabel('True Positive Rate')\n",
    "plt.title('ROC VGG 35')\n",
    "plt.legend(loc='lower right')\n",
    "plt.show()"
   ]
  },
  {
   "cell_type": "code",
   "execution_count": 43,
   "id": "14da0d3c",
   "metadata": {},
   "outputs": [
    {
     "name": "stdout",
     "output_type": "stream",
     "text": [
      "12/12 [==============================] - 0s 6ms/step\n"
     ]
    }
   ],
   "source": [
    "y_pred_le_35 = model_lenet_35.predict(x_test)\n",
    "\n",
    "fpr_le35 = dict()\n",
    "tpr_le35 = dict()\n",
    "auc_le35 = dict()\n",
    "for i in range(4):\n",
    "    fpr_le35[i], tpr_le35[i], _ = roc_curve(y_test_2[:, i], y_pred_le_35[:, i])\n",
    "    auc_le35[i] = trapezoid_rule(fpr_le35[i], tpr_le35[i])"
   ]
  },
  {
   "cell_type": "code",
   "execution_count": 44,
   "id": "54d1efdb",
   "metadata": {},
   "outputs": [
    {
     "data": {
      "image/png": "[encoded data removed]",
      "text/plain": [
       "<Figure size 576x432 with 1 Axes>"
      ]
     },
     "metadata": {
      "needs_background": "light"
     },
     "output_type": "display_data"
    }
   ],
   "source": [
    "plt.figure(figsize=(8,6))\n",
    "for i in range(4):\n",
    "    plt.plot(fpr_le35[i], tpr_le35[i], label=f'Kurva class pada {i} (AUC = {auc_le35[i]:0.2f})')\n",
    "\n",
    "plt.plot([0, 1], [0, 1], 'k--')\n",
    "plt.xlim([0.0, 1.0])\n",
    "plt.ylim([0.0, 1.05])\n",
    "plt.xlabel('False Positive Rate')\n",
    "plt.ylabel('True Positive Rate')\n",
    "plt.title('ROC LeNet 35')\n",
    "plt.legend(loc='lower right')\n",
    "plt.show()"
   ]
  },
  {
   "cell_type": "code",
   "execution_count": 45,
   "id": "fdf52692",
   "metadata": {},
   "outputs": [
    {
     "name": "stdout",
     "output_type": "stream",
     "text": [
      "12/12 [==============================] - 0s 33ms/step\n"
     ]
    }
   ],
   "source": [
    "y_pred_vgg_50 = model_vgg_50.predict(x_test)\n",
    "fpr_vgg50 = dict()\n",
    "tpr_vgg50 = dict()\n",
    "auc_vgg50 = dict()\n",
    "for i in range(4):\n",
    "    fpr_vgg50[i], tpr_vgg50[i], _ = roc_curve(y_test_2[:, i], y_pred_vgg_50[:, i])\n",
    "    auc_vgg50[i] = trapezoid_rule(fpr_vgg50[i], tpr_vgg50[i])"
   ]
  },
  {
   "cell_type": "code",
   "execution_count": 46,
   "id": "465724c7",
   "metadata": {},
   "outputs": [
    {
     "data": {
      "image/png": "[encoded data removed]",
      "text/plain": [
       "<Figure size 576x432 with 1 Axes>"
      ]
     },
     "metadata": {
      "needs_background": "light"
     },
     "output_type": "display_data"
    }
   ],
   "source": [
    "plt.figure(figsize=(8,6))\n",
    "for i in range(4):\n",
    "    plt.plot(fpr_vgg50[i], tpr_vgg50[i], label=f'Kurva class pada {i} (AUC = {auc_vgg50[i]:0.2f})')\n",
    "\n",
    "plt.plot([0, 1], [0, 1], 'k--')\n",
    "plt.xlim([0.0, 1.0])\n",
    "plt.ylim([0.0, 1.05])\n",
    "plt.xlabel('False Positive Rate')\n",
    "plt.ylabel('True Positive Rate')\n",
    "plt.title('ROC VGG 50')\n",
    "plt.legend(loc='lower right')\n",
    "plt.show()"
   ]
  },
  {
   "cell_type": "code",
   "execution_count": 47,
   "id": "e594af14",
   "metadata": {},
   "outputs": [
    {
     "name": "stdout",
     "output_type": "stream",
     "text": [
      "12/12 [==============================] - 0s 6ms/step\n"
     ]
    }
   ],
   "source": [
    "y_pred_le_50 = model_lenet_50.predict(x_test)\n",
    "\n",
    "fpr_le50 = dict()\n",
    "tpr_le50 = dict()\n",
    "auc_le50 = dict()\n",
    "for i in range(4):\n",
    "    fpr_le50[i], tpr_le50[i], _ = roc_curve(y_test_2[:, i], y_pred_le_50[:, i])\n",
    "    auc_le50[i] = trapezoid_rule(fpr_le50[i], tpr_le50[i])"
   ]
  },
  {
   "cell_type": "code",
   "execution_count": 48,
   "id": "41a37241",
   "metadata": {},
   "outputs": [
    {
     "data": {
      "image/png": "[encoded data removed]",
      "text/plain": [
       "<Figure size 576x432 with 1 Axes>"
      ]
     },
     "metadata": {
      "needs_background": "light"
     },
     "output_type": "display_data"
    }
   ],
   "source": [
    "plt.figure(figsize=(8,6))\n",
    "for i in range(4):\n",
    "    plt.plot(fpr_le50[i], tpr_le50[i], label=f'Kurva class pada {i} (AUC = {auc_le50[i]:0.2f})')\n",
    "\n",
    "plt.plot([0, 1], [0, 1], 'k--')\n",
    "plt.xlim([0.0, 1.0])\n",
    "plt.ylim([0.0, 1.05])\n",
    "plt.xlabel('False Positive Rate')\n",
    "plt.ylabel('True Positive Rate')\n",
    "plt.title('ROC LeNet 50')\n",
    "plt.legend(loc='lower right')\n",
    "plt.show()"
   ]
  },
  {
   "cell_type": "code",
   "execution_count": 49,
   "id": "a38cb112",
   "metadata": {},
   "outputs": [
    {
     "name": "stdout",
     "output_type": "stream",
     "text": [
      "12/12 [==============================] - 0s 31ms/step\n"
     ]
    }
   ],
   "source": [
    "y_pred_vgg_100 = model_vgg_100.predict(x_test)\n",
    "\n",
    "fpr_vgg100 = dict()\n",
    "tpr_vgg100 = dict()\n",
    "auc_vgg100 = dict()\n",
    "for i in range(4):\n",
    "    fpr_vgg100[i], tpr_vgg100[i], _ = roc_curve(y_test_2[:, i], y_pred_vgg_100[:, i])\n",
    "    auc_vgg100[i] = trapezoid_rule(fpr_vgg100[i], tpr_vgg100[i])"
   ]
  },
  {
   "cell_type": "code",
   "execution_count": 50,
   "id": "b0291519",
   "metadata": {},
   "outputs": [
    {
     "data": {
      "image/png": "[encoded data removed]",
      "text/plain": [
       "<Figure size 576x432 with 1 Axes>"
      ]
     },
     "metadata": {
      "needs_background": "light"
     },
     "output_type": "display_data"
    }
   ],
   "source": [
    "plt.figure(figsize=(8,6))\n",
    "for i in range(4):\n",
    "    plt.plot(fpr_vgg100[i], tpr_vgg100[i], label=f'Kurva class pada {i} (AUC = {auc_vgg100[i]:0.2f})')\n",
    "\n",
    "plt.plot([0, 1], [0, 1], 'k--')\n",
    "plt.xlim([0.0, 1.0])\n",
    "plt.ylim([0.0, 1.05])\n",
    "plt.xlabel('False Positive Rate')\n",
    "plt.ylabel('True Positive Rate')\n",
    "plt.title('ROC VGG 100')\n",
    "plt.legend(loc='lower right')\n",
    "plt.show()"
   ]
  },
  {
   "cell_type": "code",
   "execution_count": 51,
   "id": "900768c0",
   "metadata": {},
   "outputs": [
    {
     "name": "stdout",
     "output_type": "stream",
     "text": [
      "12/12 [==============================] - 0s 6ms/step\n"
     ]
    }
   ],
   "source": [
    "y_pred_le_100 = model_lenet_100.predict(x_test)\n",
    "\n",
    "fpr_le100 = dict()\n",
    "tpr_le100 = dict()\n",
    "auc_le100 = dict()\n",
    "for i in range(4):\n",
    "    fpr_le100[i], tpr_le100[i], _ = roc_curve(y_test_2[:, i], y_pred_le_100[:, i])\n",
    "    auc_le100[i] = trapezoid_rule(fpr_le100[i], tpr_le100[i])"
   ]
  },
  {
   "cell_type": "code",
   "execution_count": 52,
   "id": "be9ef35c",
   "metadata": {},
   "outputs": [
    {
     "data": {
      "image/png": "[encoded data removed]",
      "text/plain": [
       "<Figure size 576x432 with 1 Axes>"
      ]
     },
     "metadata": {
      "needs_background": "light"
     },
     "output_type": "display_data"
    }
   ],
   "source": [
    "plt.figure(figsize=(8,6))\n",
    "for i in range(4):\n",
    "    plt.plot(fpr_le100[i], tpr_le100[i], label=f'Kurva class pada {i} (AUC = {auc_le100[i]:0.2f})')\n",
    "\n",
    "plt.plot([0, 1], [0, 1], 'k--')\n",
    "plt.xlim([0.0, 1.0])\n",
    "plt.ylim([0.0, 1.05])\n",
    "plt.xlabel('False Positive Rate')\n",
    "plt.ylabel('True Positive Rate')\n",
    "plt.title('ROC LeNet 100')\n",
    "plt.legend(loc='lower right')\n",
    "plt.show()"
   ]
  },
  {
   "cell_type": "code",
   "execution_count": null,
   "id": "d4b39882",
   "metadata": {},
   "outputs": [],
   "source": [
    "import tensorflow as tf\n",
    "converter = tf.lite.TFLiteConverter.from_keras_model(model_vgg_50)\n",
    "converter.optimizations = [tf.lite.Optimize.DEFAULT]\n",
    "converter.target_spec.supported_types = [tf.float16]\n",
    "tflite_model = converter.convert()\n",
    "\n",
    "# Save the converted model to a .tflite file\n",
    "with open('model.tflite', 'wb') as f:\n",
    "    f.write(tflite_model)"
   ]
  }
 ],
 "metadata": {
  "kernelspec": {
   "display_name": "Python 3 (ipykernel)",
   "language": "python",
   "name": "python3"
  },
  "language_info": {
   "codemirror_mode": {
    "name": "ipython",
    "version": 3
   },
   "file_extension": ".py",
   "mimetype": "text/x-python",
   "name": "python",
   "nbconvert_exporter": "python",
   "pygments_lexer": "ipython3",
   "version": "3.9.12"
  }
 },
 "nbformat": 4,
 "nbformat_minor": 5
}
